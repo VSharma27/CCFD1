{
  "nbformat": 4,
  "nbformat_minor": 0,
  "metadata": {
    "colab": {
      "provenance": [],
      "authorship_tag": "ABX9TyPNKU8DOg4piSRyXo35r1Wm",
      "include_colab_link": true
    },
    "kernelspec": {
      "name": "python3",
      "display_name": "Python 3"
    },
    "language_info": {
      "name": "python"
    }
  },
  "cells": [
    {
      "cell_type": "markdown",
      "metadata": {
        "id": "view-in-github",
        "colab_type": "text"
      },
      "source": [
        "<a href=\"https://colab.research.google.com/github/VSharma27/CCFD1/blob/main/Source_Code_PPT.ipynb\" target=\"_parent\"><img src=\"https://colab.research.google.com/assets/colab-badge.svg\" alt=\"Open In Colab\"/></a>"
      ]
    },
    {
      "cell_type": "code",
      "execution_count": 1,
      "metadata": {
        "id": "uR_BChX7DPhv"
      },
      "outputs": [],
      "source": [
        "import os # clear screen\n",
        "import re # for scanning input data\n",
        "import pandas as pd\n"
      ]
    },
    {
      "cell_type": "markdown",
      "source": [
        "create a class of task"
      ],
      "metadata": {
        "id": "6dmG_u0wD0TC"
      }
    },
    {
      "cell_type": "code",
      "source": [
        "class Task(object):\n",
        "  def __init__(self, description, activity, predecessors, days):\n",
        "    self.description = description\n",
        "    self.activity = activity.upper()\n",
        "    self.predecessors = predecessors\n",
        "    self.days=days\n",
        "    self.earlyStart=0\n",
        "    self.earliestFinish=0\n",
        "    self.successors=[]\n",
        "    self.latestStart=0\n",
        "    self.latestFinish=0\n",
        "    self.slack=0\n",
        "    self.critical=''\n",
        "  \n",
        "\n",
        "  def computeSlack(self):\n",
        "    self.slack=self.latestFinish-self.earliestFinish\n",
        "    if self.slack>0:\n",
        "      self.critical='NO'\n",
        "    else:\n",
        "      self.critical ='YES'\n"
      ],
      "metadata": {
        "id": "f8WTocOyDx8b"
      },
      "execution_count": 2,
      "outputs": []
    },
    {
      "cell_type": "markdown",
      "source": [
        "Compute slack for a task\n",
        "Slack is the difference between early finish and early start or\n",
        "late finish and late start\n"
      ],
      "metadata": {
        "id": "MWP9VfYxElWc"
      }
    },
    {
      "cell_type": "markdown",
      "source": [
        "The functions"
      ],
      "metadata": {
        "id": "h3Bm6UwOFT5a"
      }
    },
    {
      "cell_type": "code",
      "source": [
        "\n",
        "\n",
        "def readData(): #Get data and return a pandas dataframe\n",
        "  myFile='data.xlsx'\n",
        "  sheet=pd.read_excel(myFile, sheet_name='Sheet1')\n",
        "  return (sheet)\n",
        "\n",
        "def createTask(mydata):# create task object from pandas data frame\n",
        "  taskObject=[]\n",
        "\n",
        "  for i in range(len(mydata)):\n",
        "    taskObject.append(Task(mydata['DESCRIPTION'][i],mydata['ACTIVITY'][i], mydata['PREDECESSORS'][i],mydata['DAYS'][i]))\n",
        "  \n",
        "  return (taskObject)\n",
        "\n",
        "def forwardPass(taskObject):\n",
        "  for task in taskObject:\n",
        "    if type(task.predecessors) is str: #type string\n",
        "      task.predecessors= task.predecessors.upper()\n",
        "      ef=[]\n",
        "      for j in task.predecessors:\n",
        "          for t in taskObject:\n",
        "              if t.activity==j:\n",
        "                  ef.append(t.earliestFinish)\n",
        "          task.earlyStart=max(ef)\n",
        "      del ef\n",
        "    else:\n",
        "        task.earlyStart=0\n",
        "\n",
        "    task.earliestFinish=task.earlyStart+task.days\n",
        "  \n",
        "def backwardPass(taskObject):\n",
        "  pred=[]\n",
        "  eF=[]\n",
        "\n",
        "  for task in taskObject:\n",
        "    if type(task.predecessors) ==str:\n",
        "      for j in task.predecessors:\n",
        "        pattern = re.compile(r'[A-Z]')\n",
        "        match=pattern.finditer(j)\n",
        "        for r in match:\n",
        "          pred.append(j)\n",
        "          for m in taskObject:\n",
        "            if m.activity ==j:\n",
        "              m.successors.append(task.activity)\n",
        "\n",
        "    eF.append(task.earliestFinish)\n",
        "\n",
        "\n",
        "\n",
        "    for task in reversed(taskObject):\n",
        "      if task.activity not in pred:\n",
        "        task.latestFinish =max(eF)\n",
        "      else:\n",
        "        minLs =[]\n",
        "        for x in task.successors:\n",
        "          for t in (taskObject):\n",
        "            if t.activity==x:\n",
        "              minLs.append(t.latestStart)\n",
        "        task.latestFinish =min(minLs)\n",
        "        del minLs\n",
        "      \n",
        "      task.latestStart=task.latestFinish-task.days\n",
        "\n",
        "def slack(taskObject):\n",
        "  for task in taskObject:\n",
        "    task.computeSlack()\n",
        "\n",
        "def updateDataFrame(df,TaskObject):\n",
        "  df2=pd.DataFrame({\n",
        "  'DESCRIPTION':df['DESCRIPTION'],\n",
        "  'ACTIVITY':df['ACTIVITY'],\n",
        "  'PREDECESSORS':df['PREDECESSORS'],\n",
        "  'DAYS':df['DAYS'],\n",
        "  'ES':pd.Series([task.earlyStart for task in TaskObject]),\n",
        "  'EF':pd.Series([task.earliestFinish for task in TaskObject]),\n",
        "  'LS':pd.Series([task.latestStart for task in TaskObject]),\n",
        "  'LF':pd.Series([task.latestFinish for task in TaskObject]),\n",
        "  'SLACK':pd.Series([task.slack for task in TaskObject]),\n",
        "  'CRITICAL?':pd.Series([task.critical for task in TaskObject])\n",
        "  })\n",
        "  return (df2)\n",
        "\n",
        "def main():\n",
        "  os.system('clear')\n",
        "  df=readData()\n",
        "  taskObject=createTask(df)\n",
        "  forwardPass(taskObject)\n",
        "  backwardPass(taskObject)\n",
        "  slack(taskObject)\n",
        "\n",
        "  finaldf=updateDataFrame(df,taskObject)\n",
        "  print(finaldf)\n",
        "  print('\\n File saved to cpm.xlsx\\n')\n",
        "  finaldf.to_excel('cpm.xlsx', index = False)\n",
        "\n"
      ],
      "metadata": {
        "id": "1vxHR22oFRlt"
      },
      "execution_count": 3,
      "outputs": []
    },
    {
      "cell_type": "code",
      "source": [
        "main()"
      ],
      "metadata": {
        "colab": {
          "base_uri": "https://localhost:8080/"
        },
        "id": "dr7Hfd9KUhKM",
        "outputId": "fb2af564-a75a-4c69-ce71-2ec590bb67a1"
      },
      "execution_count": 4,
      "outputs": [
        {
          "output_type": "stream",
          "name": "stdout",
          "text": [
            "  DESCRIPTION ACTIVITY PREDECESSORS  DAYS  ES  EF  LS  LF  SLACK CRITICAL?\n",
            "0  Activity 1        A          NaN     6   0   6   3   9      3        NO\n",
            "1  Activity 2        B          NaN     9   0   9   0   9      0       YES\n",
            "2  Activity 3        C          A,B    10   9  19   9  19      0       YES\n",
            "3  Activity 4        D            C     8  19  27  19  27      0       YES\n",
            "4  Activity 5        E            C     5  19  24  22  27      3        NO\n",
            "5  Activity 6        F          E,D     6  27  33  27  33      0       YES\n",
            "6  Activity 7        G            F     5  33  38  36  41      3        NO\n",
            "7  Activity 8        H            F     8  33  41  33  41      0       YES\n",
            "\n",
            " File saved to cpm.xlsx\n",
            "\n"
          ]
        }
      ]
    }
  ]
}