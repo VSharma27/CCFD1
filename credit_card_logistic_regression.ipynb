{
  "nbformat": 4,
  "nbformat_minor": 0,
  "metadata": {
    "colab": {
      "name": "credit_card_logistic_regression.ipynb",
      "provenance": [],
      "collapsed_sections": [],
      "authorship_tag": "ABX9TyOxjxWuKAy2+fsE/rkXPdtY",
      "include_colab_link": true
    },
    "kernelspec": {
      "name": "python3",
      "display_name": "Python 3"
    },
    "language_info": {
      "name": "python"
    }
  },
  "cells": [
    {
      "cell_type": "markdown",
      "metadata": {
        "id": "view-in-github",
        "colab_type": "text"
      },
      "source": [
        "<a href=\"https://colab.research.google.com/github/VSharma27/CCFD1/blob/main/credit_card_logistic_regression.ipynb\" target=\"_parent\"><img src=\"https://colab.research.google.com/assets/colab-badge.svg\" alt=\"Open In Colab\"/></a>"
      ]
    },
    {
      "cell_type": "markdown",
      "metadata": {
        "id": "Qg4gENzr7Zhs"
      },
      "source": [
        "**Importing libraries**\n"
      ]
    },
    {
      "cell_type": "code",
      "metadata": {
        "id": "x-9bJrr_kxm6"
      },
      "source": [
        "import pandas as pd\n",
        "import numpy as np\n",
        "import matplotlib.pyplot as plt\n",
        "%matplotlib inline\n",
        "import seaborn as sns\n",
        "from scipy.stats import skew\n",
        "from imblearn.over_sampling import SMOTE\n",
        "from sklearn.linear_model import LogisticRegression\n",
        "from sklearn.model_selection import train_test_split\n",
        "from sklearn.preprocessing import StandardScaler\n",
        "from sklearn import metrics\n",
        "from sklearn.metrics import confusion_matrix\n",
        "from sklearn.metrics import f1_score\n",
        "from sklearn.metrics import classification_report\n",
        "from sklearn.model_selection import KFold\n",
        "from sklearn.model_selection import cross_val_score\n",
        "from sklearn.model_selection import GridSearchCV\n",
        "pd.set_option('display.max_columns', 500)"
      ],
      "execution_count": 4,
      "outputs": []
    },
    {
      "cell_type": "markdown",
      "metadata": {
        "id": "3H3t1w7jAkss"
      },
      "source": [
        "**Reading Dataset**"
      ]
    },
    {
      "cell_type": "code",
      "metadata": {
        "colab": {
          "base_uri": "https://localhost:8080/",
          "height": 223
        },
        "id": "P_0yhbqHyCui",
        "outputId": "d78173b3-30d6-4a92-972e-33de4f5d8fd3"
      },
      "source": [
        "# Reading the dataset\n",
        "df = pd.read_csv('/content/creditcard.csv')\n",
        "df.head()"
      ],
      "execution_count": 5,
      "outputs": [
        {
          "output_type": "execute_result",
          "data": {
            "text/html": [
              "<div>\n",
              "<style scoped>\n",
              "    .dataframe tbody tr th:only-of-type {\n",
              "        vertical-align: middle;\n",
              "    }\n",
              "\n",
              "    .dataframe tbody tr th {\n",
              "        vertical-align: top;\n",
              "    }\n",
              "\n",
              "    .dataframe thead th {\n",
              "        text-align: right;\n",
              "    }\n",
              "</style>\n",
              "<table border=\"1\" class=\"dataframe\">\n",
              "  <thead>\n",
              "    <tr style=\"text-align: right;\">\n",
              "      <th></th>\n",
              "      <th>Time</th>\n",
              "      <th>V1</th>\n",
              "      <th>V2</th>\n",
              "      <th>V3</th>\n",
              "      <th>V4</th>\n",
              "      <th>V5</th>\n",
              "      <th>V6</th>\n",
              "      <th>V7</th>\n",
              "      <th>V8</th>\n",
              "      <th>V9</th>\n",
              "      <th>V10</th>\n",
              "      <th>V11</th>\n",
              "      <th>V12</th>\n",
              "      <th>V13</th>\n",
              "      <th>V14</th>\n",
              "      <th>V15</th>\n",
              "      <th>V16</th>\n",
              "      <th>V17</th>\n",
              "      <th>V18</th>\n",
              "      <th>V19</th>\n",
              "      <th>V20</th>\n",
              "      <th>V21</th>\n",
              "      <th>V22</th>\n",
              "      <th>V23</th>\n",
              "      <th>V24</th>\n",
              "      <th>V25</th>\n",
              "      <th>V26</th>\n",
              "      <th>V27</th>\n",
              "      <th>V28</th>\n",
              "      <th>Amount</th>\n",
              "      <th>Class</th>\n",
              "    </tr>\n",
              "  </thead>\n",
              "  <tbody>\n",
              "    <tr>\n",
              "      <th>0</th>\n",
              "      <td>0.0</td>\n",
              "      <td>-1.359807</td>\n",
              "      <td>-0.072781</td>\n",
              "      <td>2.536347</td>\n",
              "      <td>1.378155</td>\n",
              "      <td>-0.338321</td>\n",
              "      <td>0.462388</td>\n",
              "      <td>0.239599</td>\n",
              "      <td>0.098698</td>\n",
              "      <td>0.363787</td>\n",
              "      <td>0.090794</td>\n",
              "      <td>-0.551600</td>\n",
              "      <td>-0.617801</td>\n",
              "      <td>-0.991390</td>\n",
              "      <td>-0.311169</td>\n",
              "      <td>1.468177</td>\n",
              "      <td>-0.470401</td>\n",
              "      <td>0.207971</td>\n",
              "      <td>0.025791</td>\n",
              "      <td>0.403993</td>\n",
              "      <td>0.251412</td>\n",
              "      <td>-0.018307</td>\n",
              "      <td>0.277838</td>\n",
              "      <td>-0.110474</td>\n",
              "      <td>0.066928</td>\n",
              "      <td>0.128539</td>\n",
              "      <td>-0.189115</td>\n",
              "      <td>0.133558</td>\n",
              "      <td>-0.021053</td>\n",
              "      <td>149.62</td>\n",
              "      <td>0</td>\n",
              "    </tr>\n",
              "    <tr>\n",
              "      <th>1</th>\n",
              "      <td>0.0</td>\n",
              "      <td>1.191857</td>\n",
              "      <td>0.266151</td>\n",
              "      <td>0.166480</td>\n",
              "      <td>0.448154</td>\n",
              "      <td>0.060018</td>\n",
              "      <td>-0.082361</td>\n",
              "      <td>-0.078803</td>\n",
              "      <td>0.085102</td>\n",
              "      <td>-0.255425</td>\n",
              "      <td>-0.166974</td>\n",
              "      <td>1.612727</td>\n",
              "      <td>1.065235</td>\n",
              "      <td>0.489095</td>\n",
              "      <td>-0.143772</td>\n",
              "      <td>0.635558</td>\n",
              "      <td>0.463917</td>\n",
              "      <td>-0.114805</td>\n",
              "      <td>-0.183361</td>\n",
              "      <td>-0.145783</td>\n",
              "      <td>-0.069083</td>\n",
              "      <td>-0.225775</td>\n",
              "      <td>-0.638672</td>\n",
              "      <td>0.101288</td>\n",
              "      <td>-0.339846</td>\n",
              "      <td>0.167170</td>\n",
              "      <td>0.125895</td>\n",
              "      <td>-0.008983</td>\n",
              "      <td>0.014724</td>\n",
              "      <td>2.69</td>\n",
              "      <td>0</td>\n",
              "    </tr>\n",
              "    <tr>\n",
              "      <th>2</th>\n",
              "      <td>1.0</td>\n",
              "      <td>-1.358354</td>\n",
              "      <td>-1.340163</td>\n",
              "      <td>1.773209</td>\n",
              "      <td>0.379780</td>\n",
              "      <td>-0.503198</td>\n",
              "      <td>1.800499</td>\n",
              "      <td>0.791461</td>\n",
              "      <td>0.247676</td>\n",
              "      <td>-1.514654</td>\n",
              "      <td>0.207643</td>\n",
              "      <td>0.624501</td>\n",
              "      <td>0.066084</td>\n",
              "      <td>0.717293</td>\n",
              "      <td>-0.165946</td>\n",
              "      <td>2.345865</td>\n",
              "      <td>-2.890083</td>\n",
              "      <td>1.109969</td>\n",
              "      <td>-0.121359</td>\n",
              "      <td>-2.261857</td>\n",
              "      <td>0.524980</td>\n",
              "      <td>0.247998</td>\n",
              "      <td>0.771679</td>\n",
              "      <td>0.909412</td>\n",
              "      <td>-0.689281</td>\n",
              "      <td>-0.327642</td>\n",
              "      <td>-0.139097</td>\n",
              "      <td>-0.055353</td>\n",
              "      <td>-0.059752</td>\n",
              "      <td>378.66</td>\n",
              "      <td>0</td>\n",
              "    </tr>\n",
              "    <tr>\n",
              "      <th>3</th>\n",
              "      <td>1.0</td>\n",
              "      <td>-0.966272</td>\n",
              "      <td>-0.185226</td>\n",
              "      <td>1.792993</td>\n",
              "      <td>-0.863291</td>\n",
              "      <td>-0.010309</td>\n",
              "      <td>1.247203</td>\n",
              "      <td>0.237609</td>\n",
              "      <td>0.377436</td>\n",
              "      <td>-1.387024</td>\n",
              "      <td>-0.054952</td>\n",
              "      <td>-0.226487</td>\n",
              "      <td>0.178228</td>\n",
              "      <td>0.507757</td>\n",
              "      <td>-0.287924</td>\n",
              "      <td>-0.631418</td>\n",
              "      <td>-1.059647</td>\n",
              "      <td>-0.684093</td>\n",
              "      <td>1.965775</td>\n",
              "      <td>-1.232622</td>\n",
              "      <td>-0.208038</td>\n",
              "      <td>-0.108300</td>\n",
              "      <td>0.005274</td>\n",
              "      <td>-0.190321</td>\n",
              "      <td>-1.175575</td>\n",
              "      <td>0.647376</td>\n",
              "      <td>-0.221929</td>\n",
              "      <td>0.062723</td>\n",
              "      <td>0.061458</td>\n",
              "      <td>123.50</td>\n",
              "      <td>0</td>\n",
              "    </tr>\n",
              "    <tr>\n",
              "      <th>4</th>\n",
              "      <td>2.0</td>\n",
              "      <td>-1.158233</td>\n",
              "      <td>0.877737</td>\n",
              "      <td>1.548718</td>\n",
              "      <td>0.403034</td>\n",
              "      <td>-0.407193</td>\n",
              "      <td>0.095921</td>\n",
              "      <td>0.592941</td>\n",
              "      <td>-0.270533</td>\n",
              "      <td>0.817739</td>\n",
              "      <td>0.753074</td>\n",
              "      <td>-0.822843</td>\n",
              "      <td>0.538196</td>\n",
              "      <td>1.345852</td>\n",
              "      <td>-1.119670</td>\n",
              "      <td>0.175121</td>\n",
              "      <td>-0.451449</td>\n",
              "      <td>-0.237033</td>\n",
              "      <td>-0.038195</td>\n",
              "      <td>0.803487</td>\n",
              "      <td>0.408542</td>\n",
              "      <td>-0.009431</td>\n",
              "      <td>0.798278</td>\n",
              "      <td>-0.137458</td>\n",
              "      <td>0.141267</td>\n",
              "      <td>-0.206010</td>\n",
              "      <td>0.502292</td>\n",
              "      <td>0.219422</td>\n",
              "      <td>0.215153</td>\n",
              "      <td>69.99</td>\n",
              "      <td>0</td>\n",
              "    </tr>\n",
              "  </tbody>\n",
              "</table>\n",
              "</div>"
            ],
            "text/plain": [
              "   Time        V1        V2        V3        V4        V5        V6        V7  \\\n",
              "0   0.0 -1.359807 -0.072781  2.536347  1.378155 -0.338321  0.462388  0.239599   \n",
              "1   0.0  1.191857  0.266151  0.166480  0.448154  0.060018 -0.082361 -0.078803   \n",
              "2   1.0 -1.358354 -1.340163  1.773209  0.379780 -0.503198  1.800499  0.791461   \n",
              "3   1.0 -0.966272 -0.185226  1.792993 -0.863291 -0.010309  1.247203  0.237609   \n",
              "4   2.0 -1.158233  0.877737  1.548718  0.403034 -0.407193  0.095921  0.592941   \n",
              "\n",
              "         V8        V9       V10       V11       V12       V13       V14  \\\n",
              "0  0.098698  0.363787  0.090794 -0.551600 -0.617801 -0.991390 -0.311169   \n",
              "1  0.085102 -0.255425 -0.166974  1.612727  1.065235  0.489095 -0.143772   \n",
              "2  0.247676 -1.514654  0.207643  0.624501  0.066084  0.717293 -0.165946   \n",
              "3  0.377436 -1.387024 -0.054952 -0.226487  0.178228  0.507757 -0.287924   \n",
              "4 -0.270533  0.817739  0.753074 -0.822843  0.538196  1.345852 -1.119670   \n",
              "\n",
              "        V15       V16       V17       V18       V19       V20       V21  \\\n",
              "0  1.468177 -0.470401  0.207971  0.025791  0.403993  0.251412 -0.018307   \n",
              "1  0.635558  0.463917 -0.114805 -0.183361 -0.145783 -0.069083 -0.225775   \n",
              "2  2.345865 -2.890083  1.109969 -0.121359 -2.261857  0.524980  0.247998   \n",
              "3 -0.631418 -1.059647 -0.684093  1.965775 -1.232622 -0.208038 -0.108300   \n",
              "4  0.175121 -0.451449 -0.237033 -0.038195  0.803487  0.408542 -0.009431   \n",
              "\n",
              "        V22       V23       V24       V25       V26       V27       V28  \\\n",
              "0  0.277838 -0.110474  0.066928  0.128539 -0.189115  0.133558 -0.021053   \n",
              "1 -0.638672  0.101288 -0.339846  0.167170  0.125895 -0.008983  0.014724   \n",
              "2  0.771679  0.909412 -0.689281 -0.327642 -0.139097 -0.055353 -0.059752   \n",
              "3  0.005274 -0.190321 -1.175575  0.647376 -0.221929  0.062723  0.061458   \n",
              "4  0.798278 -0.137458  0.141267 -0.206010  0.502292  0.219422  0.215153   \n",
              "\n",
              "   Amount  Class  \n",
              "0  149.62      0  \n",
              "1    2.69      0  \n",
              "2  378.66      0  \n",
              "3  123.50      0  \n",
              "4   69.99      0  "
            ]
          },
          "metadata": {},
          "execution_count": 5
        }
      ]
    },
    {
      "cell_type": "markdown",
      "metadata": {
        "id": "GYEE07_qAo5K"
      },
      "source": [
        "**Understanding the Dataset**"
      ]
    },
    {
      "cell_type": "code",
      "metadata": {
        "colab": {
          "base_uri": "https://localhost:8080/"
        },
        "id": "BktxaosyyOS8",
        "outputId": "92ac54ae-a4a6-4946-f34a-cfef7bf176a4"
      },
      "source": [
        "df.shape"
      ],
      "execution_count": 6,
      "outputs": [
        {
          "output_type": "execute_result",
          "data": {
            "text/plain": [
              "(284807, 31)"
            ]
          },
          "metadata": {},
          "execution_count": 6
        }
      ]
    },
    {
      "cell_type": "code",
      "metadata": {
        "colab": {
          "base_uri": "https://localhost:8080/"
        },
        "id": "KGUjNpcQyR_a",
        "outputId": "6d860bee-6df6-4fa1-f38a-e4e912327e18"
      },
      "source": [
        "df.isnull().any()"
      ],
      "execution_count": 7,
      "outputs": [
        {
          "output_type": "execute_result",
          "data": {
            "text/plain": [
              "Time      False\n",
              "V1        False\n",
              "V2        False\n",
              "V3        False\n",
              "V4        False\n",
              "V5        False\n",
              "V6        False\n",
              "V7        False\n",
              "V8        False\n",
              "V9        False\n",
              "V10       False\n",
              "V11       False\n",
              "V12       False\n",
              "V13       False\n",
              "V14       False\n",
              "V15       False\n",
              "V16       False\n",
              "V17       False\n",
              "V18       False\n",
              "V19       False\n",
              "V20       False\n",
              "V21       False\n",
              "V22       False\n",
              "V23       False\n",
              "V24       False\n",
              "V25       False\n",
              "V26       False\n",
              "V27       False\n",
              "V28       False\n",
              "Amount    False\n",
              "Class     False\n",
              "dtype: bool"
            ]
          },
          "metadata": {},
          "execution_count": 7
        }
      ]
    },
    {
      "cell_type": "code",
      "metadata": {
        "colab": {
          "base_uri": "https://localhost:8080/"
        },
        "id": "2TCAZEgnyTSz",
        "outputId": "385c85b2-af0a-45f9-9c71-76373b52e08c"
      },
      "source": [
        "df.info()"
      ],
      "execution_count": 8,
      "outputs": [
        {
          "output_type": "stream",
          "name": "stdout",
          "text": [
            "<class 'pandas.core.frame.DataFrame'>\n",
            "RangeIndex: 284807 entries, 0 to 284806\n",
            "Data columns (total 31 columns):\n",
            " #   Column  Non-Null Count   Dtype  \n",
            "---  ------  --------------   -----  \n",
            " 0   Time    284807 non-null  float64\n",
            " 1   V1      284807 non-null  float64\n",
            " 2   V2      284807 non-null  float64\n",
            " 3   V3      284807 non-null  float64\n",
            " 4   V4      284807 non-null  float64\n",
            " 5   V5      284807 non-null  float64\n",
            " 6   V6      284807 non-null  float64\n",
            " 7   V7      284807 non-null  float64\n",
            " 8   V8      284807 non-null  float64\n",
            " 9   V9      284807 non-null  float64\n",
            " 10  V10     284807 non-null  float64\n",
            " 11  V11     284807 non-null  float64\n",
            " 12  V12     284807 non-null  float64\n",
            " 13  V13     284807 non-null  float64\n",
            " 14  V14     284807 non-null  float64\n",
            " 15  V15     284807 non-null  float64\n",
            " 16  V16     284807 non-null  float64\n",
            " 17  V17     284807 non-null  float64\n",
            " 18  V18     284807 non-null  float64\n",
            " 19  V19     284807 non-null  float64\n",
            " 20  V20     284807 non-null  float64\n",
            " 21  V21     284807 non-null  float64\n",
            " 22  V22     284807 non-null  float64\n",
            " 23  V23     284807 non-null  float64\n",
            " 24  V24     284807 non-null  float64\n",
            " 25  V25     284807 non-null  float64\n",
            " 26  V26     284807 non-null  float64\n",
            " 27  V27     284807 non-null  float64\n",
            " 28  V28     284807 non-null  float64\n",
            " 29  Amount  284807 non-null  float64\n",
            " 30  Class   284807 non-null  int64  \n",
            "dtypes: float64(30), int64(1)\n",
            "memory usage: 67.4 MB\n"
          ]
        }
      ]
    },
    {
      "cell_type": "code",
      "metadata": {
        "colab": {
          "base_uri": "https://localhost:8080/",
          "height": 315
        },
        "id": "q84h-zIQya7q",
        "outputId": "d7026bcc-d7b9-487d-e4b1-9e5805154178"
      },
      "source": [
        "df.describe()"
      ],
      "execution_count": 9,
      "outputs": [
        {
          "output_type": "execute_result",
          "data": {
            "text/html": [
              "<div>\n",
              "<style scoped>\n",
              "    .dataframe tbody tr th:only-of-type {\n",
              "        vertical-align: middle;\n",
              "    }\n",
              "\n",
              "    .dataframe tbody tr th {\n",
              "        vertical-align: top;\n",
              "    }\n",
              "\n",
              "    .dataframe thead th {\n",
              "        text-align: right;\n",
              "    }\n",
              "</style>\n",
              "<table border=\"1\" class=\"dataframe\">\n",
              "  <thead>\n",
              "    <tr style=\"text-align: right;\">\n",
              "      <th></th>\n",
              "      <th>Time</th>\n",
              "      <th>V1</th>\n",
              "      <th>V2</th>\n",
              "      <th>V3</th>\n",
              "      <th>V4</th>\n",
              "      <th>V5</th>\n",
              "      <th>V6</th>\n",
              "      <th>V7</th>\n",
              "      <th>V8</th>\n",
              "      <th>V9</th>\n",
              "      <th>V10</th>\n",
              "      <th>V11</th>\n",
              "      <th>V12</th>\n",
              "      <th>V13</th>\n",
              "      <th>V14</th>\n",
              "      <th>V15</th>\n",
              "      <th>V16</th>\n",
              "      <th>V17</th>\n",
              "      <th>V18</th>\n",
              "      <th>V19</th>\n",
              "      <th>V20</th>\n",
              "      <th>V21</th>\n",
              "      <th>V22</th>\n",
              "      <th>V23</th>\n",
              "      <th>V24</th>\n",
              "      <th>V25</th>\n",
              "      <th>V26</th>\n",
              "      <th>V27</th>\n",
              "      <th>V28</th>\n",
              "      <th>Amount</th>\n",
              "      <th>Class</th>\n",
              "    </tr>\n",
              "  </thead>\n",
              "  <tbody>\n",
              "    <tr>\n",
              "      <th>count</th>\n",
              "      <td>284807.000000</td>\n",
              "      <td>2.848070e+05</td>\n",
              "      <td>2.848070e+05</td>\n",
              "      <td>2.848070e+05</td>\n",
              "      <td>2.848070e+05</td>\n",
              "      <td>2.848070e+05</td>\n",
              "      <td>2.848070e+05</td>\n",
              "      <td>2.848070e+05</td>\n",
              "      <td>2.848070e+05</td>\n",
              "      <td>2.848070e+05</td>\n",
              "      <td>2.848070e+05</td>\n",
              "      <td>2.848070e+05</td>\n",
              "      <td>2.848070e+05</td>\n",
              "      <td>2.848070e+05</td>\n",
              "      <td>2.848070e+05</td>\n",
              "      <td>2.848070e+05</td>\n",
              "      <td>2.848070e+05</td>\n",
              "      <td>2.848070e+05</td>\n",
              "      <td>2.848070e+05</td>\n",
              "      <td>2.848070e+05</td>\n",
              "      <td>2.848070e+05</td>\n",
              "      <td>2.848070e+05</td>\n",
              "      <td>2.848070e+05</td>\n",
              "      <td>2.848070e+05</td>\n",
              "      <td>2.848070e+05</td>\n",
              "      <td>2.848070e+05</td>\n",
              "      <td>2.848070e+05</td>\n",
              "      <td>2.848070e+05</td>\n",
              "      <td>2.848070e+05</td>\n",
              "      <td>284807.000000</td>\n",
              "      <td>284807.000000</td>\n",
              "    </tr>\n",
              "    <tr>\n",
              "      <th>mean</th>\n",
              "      <td>94813.859575</td>\n",
              "      <td>3.919560e-15</td>\n",
              "      <td>5.688174e-16</td>\n",
              "      <td>-8.769071e-15</td>\n",
              "      <td>2.782312e-15</td>\n",
              "      <td>-1.552563e-15</td>\n",
              "      <td>2.010663e-15</td>\n",
              "      <td>-1.694249e-15</td>\n",
              "      <td>-1.927028e-16</td>\n",
              "      <td>-3.137024e-15</td>\n",
              "      <td>1.768627e-15</td>\n",
              "      <td>9.170318e-16</td>\n",
              "      <td>-1.810658e-15</td>\n",
              "      <td>1.693438e-15</td>\n",
              "      <td>1.479045e-15</td>\n",
              "      <td>3.482336e-15</td>\n",
              "      <td>1.392007e-15</td>\n",
              "      <td>-7.528491e-16</td>\n",
              "      <td>4.328772e-16</td>\n",
              "      <td>9.049732e-16</td>\n",
              "      <td>5.085503e-16</td>\n",
              "      <td>1.537294e-16</td>\n",
              "      <td>7.959909e-16</td>\n",
              "      <td>5.367590e-16</td>\n",
              "      <td>4.458112e-15</td>\n",
              "      <td>1.453003e-15</td>\n",
              "      <td>1.699104e-15</td>\n",
              "      <td>-3.660161e-16</td>\n",
              "      <td>-1.206049e-16</td>\n",
              "      <td>88.349619</td>\n",
              "      <td>0.001727</td>\n",
              "    </tr>\n",
              "    <tr>\n",
              "      <th>std</th>\n",
              "      <td>47488.145955</td>\n",
              "      <td>1.958696e+00</td>\n",
              "      <td>1.651309e+00</td>\n",
              "      <td>1.516255e+00</td>\n",
              "      <td>1.415869e+00</td>\n",
              "      <td>1.380247e+00</td>\n",
              "      <td>1.332271e+00</td>\n",
              "      <td>1.237094e+00</td>\n",
              "      <td>1.194353e+00</td>\n",
              "      <td>1.098632e+00</td>\n",
              "      <td>1.088850e+00</td>\n",
              "      <td>1.020713e+00</td>\n",
              "      <td>9.992014e-01</td>\n",
              "      <td>9.952742e-01</td>\n",
              "      <td>9.585956e-01</td>\n",
              "      <td>9.153160e-01</td>\n",
              "      <td>8.762529e-01</td>\n",
              "      <td>8.493371e-01</td>\n",
              "      <td>8.381762e-01</td>\n",
              "      <td>8.140405e-01</td>\n",
              "      <td>7.709250e-01</td>\n",
              "      <td>7.345240e-01</td>\n",
              "      <td>7.257016e-01</td>\n",
              "      <td>6.244603e-01</td>\n",
              "      <td>6.056471e-01</td>\n",
              "      <td>5.212781e-01</td>\n",
              "      <td>4.822270e-01</td>\n",
              "      <td>4.036325e-01</td>\n",
              "      <td>3.300833e-01</td>\n",
              "      <td>250.120109</td>\n",
              "      <td>0.041527</td>\n",
              "    </tr>\n",
              "    <tr>\n",
              "      <th>min</th>\n",
              "      <td>0.000000</td>\n",
              "      <td>-5.640751e+01</td>\n",
              "      <td>-7.271573e+01</td>\n",
              "      <td>-4.832559e+01</td>\n",
              "      <td>-5.683171e+00</td>\n",
              "      <td>-1.137433e+02</td>\n",
              "      <td>-2.616051e+01</td>\n",
              "      <td>-4.355724e+01</td>\n",
              "      <td>-7.321672e+01</td>\n",
              "      <td>-1.343407e+01</td>\n",
              "      <td>-2.458826e+01</td>\n",
              "      <td>-4.797473e+00</td>\n",
              "      <td>-1.868371e+01</td>\n",
              "      <td>-5.791881e+00</td>\n",
              "      <td>-1.921433e+01</td>\n",
              "      <td>-4.498945e+00</td>\n",
              "      <td>-1.412985e+01</td>\n",
              "      <td>-2.516280e+01</td>\n",
              "      <td>-9.498746e+00</td>\n",
              "      <td>-7.213527e+00</td>\n",
              "      <td>-5.449772e+01</td>\n",
              "      <td>-3.483038e+01</td>\n",
              "      <td>-1.093314e+01</td>\n",
              "      <td>-4.480774e+01</td>\n",
              "      <td>-2.836627e+00</td>\n",
              "      <td>-1.029540e+01</td>\n",
              "      <td>-2.604551e+00</td>\n",
              "      <td>-2.256568e+01</td>\n",
              "      <td>-1.543008e+01</td>\n",
              "      <td>0.000000</td>\n",
              "      <td>0.000000</td>\n",
              "    </tr>\n",
              "    <tr>\n",
              "      <th>25%</th>\n",
              "      <td>54201.500000</td>\n",
              "      <td>-9.203734e-01</td>\n",
              "      <td>-5.985499e-01</td>\n",
              "      <td>-8.903648e-01</td>\n",
              "      <td>-8.486401e-01</td>\n",
              "      <td>-6.915971e-01</td>\n",
              "      <td>-7.682956e-01</td>\n",
              "      <td>-5.540759e-01</td>\n",
              "      <td>-2.086297e-01</td>\n",
              "      <td>-6.430976e-01</td>\n",
              "      <td>-5.354257e-01</td>\n",
              "      <td>-7.624942e-01</td>\n",
              "      <td>-4.055715e-01</td>\n",
              "      <td>-6.485393e-01</td>\n",
              "      <td>-4.255740e-01</td>\n",
              "      <td>-5.828843e-01</td>\n",
              "      <td>-4.680368e-01</td>\n",
              "      <td>-4.837483e-01</td>\n",
              "      <td>-4.988498e-01</td>\n",
              "      <td>-4.562989e-01</td>\n",
              "      <td>-2.117214e-01</td>\n",
              "      <td>-2.283949e-01</td>\n",
              "      <td>-5.423504e-01</td>\n",
              "      <td>-1.618463e-01</td>\n",
              "      <td>-3.545861e-01</td>\n",
              "      <td>-3.171451e-01</td>\n",
              "      <td>-3.269839e-01</td>\n",
              "      <td>-7.083953e-02</td>\n",
              "      <td>-5.295979e-02</td>\n",
              "      <td>5.600000</td>\n",
              "      <td>0.000000</td>\n",
              "    </tr>\n",
              "    <tr>\n",
              "      <th>50%</th>\n",
              "      <td>84692.000000</td>\n",
              "      <td>1.810880e-02</td>\n",
              "      <td>6.548556e-02</td>\n",
              "      <td>1.798463e-01</td>\n",
              "      <td>-1.984653e-02</td>\n",
              "      <td>-5.433583e-02</td>\n",
              "      <td>-2.741871e-01</td>\n",
              "      <td>4.010308e-02</td>\n",
              "      <td>2.235804e-02</td>\n",
              "      <td>-5.142873e-02</td>\n",
              "      <td>-9.291738e-02</td>\n",
              "      <td>-3.275735e-02</td>\n",
              "      <td>1.400326e-01</td>\n",
              "      <td>-1.356806e-02</td>\n",
              "      <td>5.060132e-02</td>\n",
              "      <td>4.807155e-02</td>\n",
              "      <td>6.641332e-02</td>\n",
              "      <td>-6.567575e-02</td>\n",
              "      <td>-3.636312e-03</td>\n",
              "      <td>3.734823e-03</td>\n",
              "      <td>-6.248109e-02</td>\n",
              "      <td>-2.945017e-02</td>\n",
              "      <td>6.781943e-03</td>\n",
              "      <td>-1.119293e-02</td>\n",
              "      <td>4.097606e-02</td>\n",
              "      <td>1.659350e-02</td>\n",
              "      <td>-5.213911e-02</td>\n",
              "      <td>1.342146e-03</td>\n",
              "      <td>1.124383e-02</td>\n",
              "      <td>22.000000</td>\n",
              "      <td>0.000000</td>\n",
              "    </tr>\n",
              "    <tr>\n",
              "      <th>75%</th>\n",
              "      <td>139320.500000</td>\n",
              "      <td>1.315642e+00</td>\n",
              "      <td>8.037239e-01</td>\n",
              "      <td>1.027196e+00</td>\n",
              "      <td>7.433413e-01</td>\n",
              "      <td>6.119264e-01</td>\n",
              "      <td>3.985649e-01</td>\n",
              "      <td>5.704361e-01</td>\n",
              "      <td>3.273459e-01</td>\n",
              "      <td>5.971390e-01</td>\n",
              "      <td>4.539234e-01</td>\n",
              "      <td>7.395934e-01</td>\n",
              "      <td>6.182380e-01</td>\n",
              "      <td>6.625050e-01</td>\n",
              "      <td>4.931498e-01</td>\n",
              "      <td>6.488208e-01</td>\n",
              "      <td>5.232963e-01</td>\n",
              "      <td>3.996750e-01</td>\n",
              "      <td>5.008067e-01</td>\n",
              "      <td>4.589494e-01</td>\n",
              "      <td>1.330408e-01</td>\n",
              "      <td>1.863772e-01</td>\n",
              "      <td>5.285536e-01</td>\n",
              "      <td>1.476421e-01</td>\n",
              "      <td>4.395266e-01</td>\n",
              "      <td>3.507156e-01</td>\n",
              "      <td>2.409522e-01</td>\n",
              "      <td>9.104512e-02</td>\n",
              "      <td>7.827995e-02</td>\n",
              "      <td>77.165000</td>\n",
              "      <td>0.000000</td>\n",
              "    </tr>\n",
              "    <tr>\n",
              "      <th>max</th>\n",
              "      <td>172792.000000</td>\n",
              "      <td>2.454930e+00</td>\n",
              "      <td>2.205773e+01</td>\n",
              "      <td>9.382558e+00</td>\n",
              "      <td>1.687534e+01</td>\n",
              "      <td>3.480167e+01</td>\n",
              "      <td>7.330163e+01</td>\n",
              "      <td>1.205895e+02</td>\n",
              "      <td>2.000721e+01</td>\n",
              "      <td>1.559499e+01</td>\n",
              "      <td>2.374514e+01</td>\n",
              "      <td>1.201891e+01</td>\n",
              "      <td>7.848392e+00</td>\n",
              "      <td>7.126883e+00</td>\n",
              "      <td>1.052677e+01</td>\n",
              "      <td>8.877742e+00</td>\n",
              "      <td>1.731511e+01</td>\n",
              "      <td>9.253526e+00</td>\n",
              "      <td>5.041069e+00</td>\n",
              "      <td>5.591971e+00</td>\n",
              "      <td>3.942090e+01</td>\n",
              "      <td>2.720284e+01</td>\n",
              "      <td>1.050309e+01</td>\n",
              "      <td>2.252841e+01</td>\n",
              "      <td>4.584549e+00</td>\n",
              "      <td>7.519589e+00</td>\n",
              "      <td>3.517346e+00</td>\n",
              "      <td>3.161220e+01</td>\n",
              "      <td>3.384781e+01</td>\n",
              "      <td>25691.160000</td>\n",
              "      <td>1.000000</td>\n",
              "    </tr>\n",
              "  </tbody>\n",
              "</table>\n",
              "</div>"
            ],
            "text/plain": [
              "                Time            V1            V2            V3            V4  \\\n",
              "count  284807.000000  2.848070e+05  2.848070e+05  2.848070e+05  2.848070e+05   \n",
              "mean    94813.859575  3.919560e-15  5.688174e-16 -8.769071e-15  2.782312e-15   \n",
              "std     47488.145955  1.958696e+00  1.651309e+00  1.516255e+00  1.415869e+00   \n",
              "min         0.000000 -5.640751e+01 -7.271573e+01 -4.832559e+01 -5.683171e+00   \n",
              "25%     54201.500000 -9.203734e-01 -5.985499e-01 -8.903648e-01 -8.486401e-01   \n",
              "50%     84692.000000  1.810880e-02  6.548556e-02  1.798463e-01 -1.984653e-02   \n",
              "75%    139320.500000  1.315642e+00  8.037239e-01  1.027196e+00  7.433413e-01   \n",
              "max    172792.000000  2.454930e+00  2.205773e+01  9.382558e+00  1.687534e+01   \n",
              "\n",
              "                 V5            V6            V7            V8            V9  \\\n",
              "count  2.848070e+05  2.848070e+05  2.848070e+05  2.848070e+05  2.848070e+05   \n",
              "mean  -1.552563e-15  2.010663e-15 -1.694249e-15 -1.927028e-16 -3.137024e-15   \n",
              "std    1.380247e+00  1.332271e+00  1.237094e+00  1.194353e+00  1.098632e+00   \n",
              "min   -1.137433e+02 -2.616051e+01 -4.355724e+01 -7.321672e+01 -1.343407e+01   \n",
              "25%   -6.915971e-01 -7.682956e-01 -5.540759e-01 -2.086297e-01 -6.430976e-01   \n",
              "50%   -5.433583e-02 -2.741871e-01  4.010308e-02  2.235804e-02 -5.142873e-02   \n",
              "75%    6.119264e-01  3.985649e-01  5.704361e-01  3.273459e-01  5.971390e-01   \n",
              "max    3.480167e+01  7.330163e+01  1.205895e+02  2.000721e+01  1.559499e+01   \n",
              "\n",
              "                V10           V11           V12           V13           V14  \\\n",
              "count  2.848070e+05  2.848070e+05  2.848070e+05  2.848070e+05  2.848070e+05   \n",
              "mean   1.768627e-15  9.170318e-16 -1.810658e-15  1.693438e-15  1.479045e-15   \n",
              "std    1.088850e+00  1.020713e+00  9.992014e-01  9.952742e-01  9.585956e-01   \n",
              "min   -2.458826e+01 -4.797473e+00 -1.868371e+01 -5.791881e+00 -1.921433e+01   \n",
              "25%   -5.354257e-01 -7.624942e-01 -4.055715e-01 -6.485393e-01 -4.255740e-01   \n",
              "50%   -9.291738e-02 -3.275735e-02  1.400326e-01 -1.356806e-02  5.060132e-02   \n",
              "75%    4.539234e-01  7.395934e-01  6.182380e-01  6.625050e-01  4.931498e-01   \n",
              "max    2.374514e+01  1.201891e+01  7.848392e+00  7.126883e+00  1.052677e+01   \n",
              "\n",
              "                V15           V16           V17           V18           V19  \\\n",
              "count  2.848070e+05  2.848070e+05  2.848070e+05  2.848070e+05  2.848070e+05   \n",
              "mean   3.482336e-15  1.392007e-15 -7.528491e-16  4.328772e-16  9.049732e-16   \n",
              "std    9.153160e-01  8.762529e-01  8.493371e-01  8.381762e-01  8.140405e-01   \n",
              "min   -4.498945e+00 -1.412985e+01 -2.516280e+01 -9.498746e+00 -7.213527e+00   \n",
              "25%   -5.828843e-01 -4.680368e-01 -4.837483e-01 -4.988498e-01 -4.562989e-01   \n",
              "50%    4.807155e-02  6.641332e-02 -6.567575e-02 -3.636312e-03  3.734823e-03   \n",
              "75%    6.488208e-01  5.232963e-01  3.996750e-01  5.008067e-01  4.589494e-01   \n",
              "max    8.877742e+00  1.731511e+01  9.253526e+00  5.041069e+00  5.591971e+00   \n",
              "\n",
              "                V20           V21           V22           V23           V24  \\\n",
              "count  2.848070e+05  2.848070e+05  2.848070e+05  2.848070e+05  2.848070e+05   \n",
              "mean   5.085503e-16  1.537294e-16  7.959909e-16  5.367590e-16  4.458112e-15   \n",
              "std    7.709250e-01  7.345240e-01  7.257016e-01  6.244603e-01  6.056471e-01   \n",
              "min   -5.449772e+01 -3.483038e+01 -1.093314e+01 -4.480774e+01 -2.836627e+00   \n",
              "25%   -2.117214e-01 -2.283949e-01 -5.423504e-01 -1.618463e-01 -3.545861e-01   \n",
              "50%   -6.248109e-02 -2.945017e-02  6.781943e-03 -1.119293e-02  4.097606e-02   \n",
              "75%    1.330408e-01  1.863772e-01  5.285536e-01  1.476421e-01  4.395266e-01   \n",
              "max    3.942090e+01  2.720284e+01  1.050309e+01  2.252841e+01  4.584549e+00   \n",
              "\n",
              "                V25           V26           V27           V28         Amount  \\\n",
              "count  2.848070e+05  2.848070e+05  2.848070e+05  2.848070e+05  284807.000000   \n",
              "mean   1.453003e-15  1.699104e-15 -3.660161e-16 -1.206049e-16      88.349619   \n",
              "std    5.212781e-01  4.822270e-01  4.036325e-01  3.300833e-01     250.120109   \n",
              "min   -1.029540e+01 -2.604551e+00 -2.256568e+01 -1.543008e+01       0.000000   \n",
              "25%   -3.171451e-01 -3.269839e-01 -7.083953e-02 -5.295979e-02       5.600000   \n",
              "50%    1.659350e-02 -5.213911e-02  1.342146e-03  1.124383e-02      22.000000   \n",
              "75%    3.507156e-01  2.409522e-01  9.104512e-02  7.827995e-02      77.165000   \n",
              "max    7.519589e+00  3.517346e+00  3.161220e+01  3.384781e+01   25691.160000   \n",
              "\n",
              "               Class  \n",
              "count  284807.000000  \n",
              "mean        0.001727  \n",
              "std         0.041527  \n",
              "min         0.000000  \n",
              "25%         0.000000  \n",
              "50%         0.000000  \n",
              "75%         0.000000  \n",
              "max         1.000000  "
            ]
          },
          "metadata": {},
          "execution_count": 9
        }
      ]
    },
    {
      "cell_type": "markdown",
      "metadata": {
        "id": "GcsuZzeGAxOq"
      },
      "source": [
        "**Checking for Missing Values**"
      ]
    },
    {
      "cell_type": "code",
      "metadata": {
        "colab": {
          "base_uri": "https://localhost:8080/",
          "height": 1000
        },
        "id": "cj-tUbm_yrD8",
        "outputId": "e42d933f-2971-4b2e-8e5e-40cda1da8984"
      },
      "source": [
        "# Cheking percent of missing values in columns\n",
        "df_missing_columns = (round(((df.isnull().sum()/len(df.index))*100),2).to_frame('null')).sort_values('null', ascending=False)\n",
        "df_missing_columns"
      ],
      "execution_count": 10,
      "outputs": [
        {
          "output_type": "execute_result",
          "data": {
            "text/html": [
              "<div>\n",
              "<style scoped>\n",
              "    .dataframe tbody tr th:only-of-type {\n",
              "        vertical-align: middle;\n",
              "    }\n",
              "\n",
              "    .dataframe tbody tr th {\n",
              "        vertical-align: top;\n",
              "    }\n",
              "\n",
              "    .dataframe thead th {\n",
              "        text-align: right;\n",
              "    }\n",
              "</style>\n",
              "<table border=\"1\" class=\"dataframe\">\n",
              "  <thead>\n",
              "    <tr style=\"text-align: right;\">\n",
              "      <th></th>\n",
              "      <th>null</th>\n",
              "    </tr>\n",
              "  </thead>\n",
              "  <tbody>\n",
              "    <tr>\n",
              "      <th>Time</th>\n",
              "      <td>0.0</td>\n",
              "    </tr>\n",
              "    <tr>\n",
              "      <th>V16</th>\n",
              "      <td>0.0</td>\n",
              "    </tr>\n",
              "    <tr>\n",
              "      <th>Amount</th>\n",
              "      <td>0.0</td>\n",
              "    </tr>\n",
              "    <tr>\n",
              "      <th>V28</th>\n",
              "      <td>0.0</td>\n",
              "    </tr>\n",
              "    <tr>\n",
              "      <th>V27</th>\n",
              "      <td>0.0</td>\n",
              "    </tr>\n",
              "    <tr>\n",
              "      <th>V26</th>\n",
              "      <td>0.0</td>\n",
              "    </tr>\n",
              "    <tr>\n",
              "      <th>V25</th>\n",
              "      <td>0.0</td>\n",
              "    </tr>\n",
              "    <tr>\n",
              "      <th>V24</th>\n",
              "      <td>0.0</td>\n",
              "    </tr>\n",
              "    <tr>\n",
              "      <th>V23</th>\n",
              "      <td>0.0</td>\n",
              "    </tr>\n",
              "    <tr>\n",
              "      <th>V22</th>\n",
              "      <td>0.0</td>\n",
              "    </tr>\n",
              "    <tr>\n",
              "      <th>V21</th>\n",
              "      <td>0.0</td>\n",
              "    </tr>\n",
              "    <tr>\n",
              "      <th>V20</th>\n",
              "      <td>0.0</td>\n",
              "    </tr>\n",
              "    <tr>\n",
              "      <th>V19</th>\n",
              "      <td>0.0</td>\n",
              "    </tr>\n",
              "    <tr>\n",
              "      <th>V18</th>\n",
              "      <td>0.0</td>\n",
              "    </tr>\n",
              "    <tr>\n",
              "      <th>V17</th>\n",
              "      <td>0.0</td>\n",
              "    </tr>\n",
              "    <tr>\n",
              "      <th>V15</th>\n",
              "      <td>0.0</td>\n",
              "    </tr>\n",
              "    <tr>\n",
              "      <th>V1</th>\n",
              "      <td>0.0</td>\n",
              "    </tr>\n",
              "    <tr>\n",
              "      <th>V14</th>\n",
              "      <td>0.0</td>\n",
              "    </tr>\n",
              "    <tr>\n",
              "      <th>V13</th>\n",
              "      <td>0.0</td>\n",
              "    </tr>\n",
              "    <tr>\n",
              "      <th>V12</th>\n",
              "      <td>0.0</td>\n",
              "    </tr>\n",
              "    <tr>\n",
              "      <th>V11</th>\n",
              "      <td>0.0</td>\n",
              "    </tr>\n",
              "    <tr>\n",
              "      <th>V10</th>\n",
              "      <td>0.0</td>\n",
              "    </tr>\n",
              "    <tr>\n",
              "      <th>V9</th>\n",
              "      <td>0.0</td>\n",
              "    </tr>\n",
              "    <tr>\n",
              "      <th>V8</th>\n",
              "      <td>0.0</td>\n",
              "    </tr>\n",
              "    <tr>\n",
              "      <th>V7</th>\n",
              "      <td>0.0</td>\n",
              "    </tr>\n",
              "    <tr>\n",
              "      <th>V6</th>\n",
              "      <td>0.0</td>\n",
              "    </tr>\n",
              "    <tr>\n",
              "      <th>V5</th>\n",
              "      <td>0.0</td>\n",
              "    </tr>\n",
              "    <tr>\n",
              "      <th>V4</th>\n",
              "      <td>0.0</td>\n",
              "    </tr>\n",
              "    <tr>\n",
              "      <th>V3</th>\n",
              "      <td>0.0</td>\n",
              "    </tr>\n",
              "    <tr>\n",
              "      <th>V2</th>\n",
              "      <td>0.0</td>\n",
              "    </tr>\n",
              "    <tr>\n",
              "      <th>Class</th>\n",
              "      <td>0.0</td>\n",
              "    </tr>\n",
              "  </tbody>\n",
              "</table>\n",
              "</div>"
            ],
            "text/plain": [
              "        null\n",
              "Time     0.0\n",
              "V16      0.0\n",
              "Amount   0.0\n",
              "V28      0.0\n",
              "V27      0.0\n",
              "V26      0.0\n",
              "V25      0.0\n",
              "V24      0.0\n",
              "V23      0.0\n",
              "V22      0.0\n",
              "V21      0.0\n",
              "V20      0.0\n",
              "V19      0.0\n",
              "V18      0.0\n",
              "V17      0.0\n",
              "V15      0.0\n",
              "V1       0.0\n",
              "V14      0.0\n",
              "V13      0.0\n",
              "V12      0.0\n",
              "V11      0.0\n",
              "V10      0.0\n",
              "V9       0.0\n",
              "V8       0.0\n",
              "V7       0.0\n",
              "V6       0.0\n",
              "V5       0.0\n",
              "V4       0.0\n",
              "V3       0.0\n",
              "V2       0.0\n",
              "Class    0.0"
            ]
          },
          "metadata": {},
          "execution_count": 10
        }
      ]
    },
    {
      "cell_type": "code",
      "metadata": {
        "colab": {
          "base_uri": "https://localhost:8080/"
        },
        "id": "d4WNFUjcys5d",
        "outputId": "30fdeb19-9741-4e07-aa18-fad54d588c18"
      },
      "source": [
        "classes = df['Class'].value_counts()\n",
        "classes"
      ],
      "execution_count": 11,
      "outputs": [
        {
          "output_type": "execute_result",
          "data": {
            "text/plain": [
              "0    284315\n",
              "1       492\n",
              "Name: Class, dtype: int64"
            ]
          },
          "metadata": {},
          "execution_count": 11
        }
      ]
    },
    {
      "cell_type": "code",
      "metadata": {
        "colab": {
          "base_uri": "https://localhost:8080/"
        },
        "id": "cnLD1uySyugV",
        "outputId": "c4720ac7-1c97-4c64-ffef-a21a1e856ea9"
      },
      "source": [
        "normal_share = round((classes[0]/df['Class'].count()*100),2)\n",
        "normal_share"
      ],
      "execution_count": 12,
      "outputs": [
        {
          "output_type": "execute_result",
          "data": {
            "text/plain": [
              "99.83"
            ]
          },
          "metadata": {},
          "execution_count": 12
        }
      ]
    },
    {
      "cell_type": "code",
      "metadata": {
        "colab": {
          "base_uri": "https://localhost:8080/"
        },
        "id": "8KGutVhCywY0",
        "outputId": "19b09de8-3d25-4c54-8e3a-6b1158d333b5"
      },
      "source": [
        "fraud_share = round((classes[1]/df['Class'].count()*100),2)\n",
        "fraud_share"
      ],
      "execution_count": 13,
      "outputs": [
        {
          "output_type": "execute_result",
          "data": {
            "text/plain": [
              "0.17"
            ]
          },
          "metadata": {},
          "execution_count": 13
        }
      ]
    },
    {
      "cell_type": "code",
      "metadata": {
        "colab": {
          "base_uri": "https://localhost:8080/",
          "height": 295
        },
        "id": "d_8GiqoCyzub",
        "outputId": "173bbe83-f238-4cc0-ee41-1903e25229ec"
      },
      "source": [
        "#NEWLY ADDED CODE\n",
        "import matplotlib.pyplot as plt\n",
        "labels = [\"Genuine\", \"Fraud\"]\n",
        "count_classes = df.value_counts(df['Class'], sort= True)\n",
        "count_classes.plot(kind = \"bar\", rot = 0)\n",
        "plt.title(\"Visualization of Labels\")\n",
        "plt.ylabel(\"Count\")\n",
        "plt.xticks(range(2), labels)\n",
        "plt.show()"
      ],
      "execution_count": 14,
      "outputs": [
        {
          "output_type": "display_data",
          "data": {
            "image/png": "[encoded data removed]",
            "text/plain": [
              "<Figure size 432x288 with 1 Axes>"
            ]
          },
          "metadata": {
            "needs_background": "light"
          }
        }
      ]
    },
    {
      "cell_type": "code",
      "metadata": {
        "id": "5rnjkv_tyxsc"
      },
      "source": [
        "# Creating fraudulent dataframe\n",
        "data_fraud = df[df['Class'] == 1]\n",
        "# Creating non fraudulent dataframe\n",
        "data_non_fraud = df[df['Class'] == 0]"
      ],
      "execution_count": 15,
      "outputs": []
    },
    {
      "cell_type": "code",
      "metadata": {
        "colab": {
          "base_uri": "https://localhost:8080/",
          "height": 432
        },
        "id": "rVC12yN8zCOM",
        "outputId": "3942773b-533b-4f3f-a800-8232c09e24ac"
      },
      "source": [
        "# Distribution plot\n",
        "plt.figure(figsize=(8,5))\n",
        "ax = sns.distplot(data_fraud['Time'],label='fraudulent',hist=False)\n",
        "ax = sns.distplot(data_non_fraud['Time'],label='non fraudulent',hist=False)\n",
        "ax.set(xlabel='Seconds elapsed between the transction and the first transction')\n",
        "plt.show()"
      ],
      "execution_count": 16,
      "outputs": [
        {
          "output_type": "stream",
          "name": "stderr",
          "text": [
            "/usr/local/lib/python3.7/dist-packages/seaborn/distributions.py:2619: FutureWarning: `distplot` is a deprecated function and will be removed in a future version. Please adapt your code to use either `displot` (a figure-level function with similar flexibility) or `kdeplot` (an axes-level function for kernel density plots).\n",
            "  warnings.warn(msg, FutureWarning)\n",
            "/usr/local/lib/python3.7/dist-packages/seaborn/distributions.py:2619: FutureWarning: `distplot` is a deprecated function and will be removed in a future version. Please adapt your code to use either `displot` (a figure-level function with similar flexibility) or `kdeplot` (an axes-level function for kernel density plots).\n",
            "  warnings.warn(msg, FutureWarning)\n"
          ]
        },
        {
          "output_type": "display_data",
          "data": {
            "image/png": "[encoded data removed]",
            "text/plain": [
              "<Figure size 576x360 with 1 Axes>"
            ]
          },
          "metadata": {
            "needs_background": "light"
          }
        }
      ]
    },
    {
      "cell_type": "code",
      "metadata": {
        "id": "9a2fVe2bzGss"
      },
      "source": [
        "# Dropping the Time column\n",
        "df.drop('Time', axis=1, inplace=True)"
      ],
      "execution_count": 17,
      "outputs": []
    },
    {
      "cell_type": "code",
      "metadata": {
        "id": "IuP9r2GCzUPe"
      },
      "source": [
        "# Putting feature variables into X\n",
        "X = df.drop(['Class'], axis=1)"
      ],
      "execution_count": 18,
      "outputs": []
    },
    {
      "cell_type": "code",
      "metadata": {
        "id": "l0_53djzzYL8"
      },
      "source": [
        "# Putting target variable to y\n",
        "y = df['Class']"
      ],
      "execution_count": 19,
      "outputs": []
    },
    {
      "cell_type": "markdown",
      "metadata": {
        "id": "OmSTFqY7A_K6"
      },
      "source": [
        "**Splitting of Dataset**"
      ]
    },
    {
      "cell_type": "code",
      "metadata": {
        "id": "dFTDGy_TzbYN"
      },
      "source": [
        "# Splitting data into train and test set 80:20\n",
        "X_train, X_test, y_train, y_test = train_test_split(X, y, train_size=0.8, test_size=0.2, random_state=200)"
      ],
      "execution_count": 21,
      "outputs": []
    },
    {
      "cell_type": "code",
      "metadata": {
        "id": "zJobXRWZzlQv"
      },
      "source": [
        "# Instantiate the Scaler\n",
        "scaler = StandardScaler()"
      ],
      "execution_count": 22,
      "outputs": []
    },
    {
      "cell_type": "code",
      "metadata": {
        "id": "EhfrKC1vzpvT",
        "colab": {
          "base_uri": "https://localhost:8080/"
        },
        "outputId": "77111a5f-1475-4261-9081-783f55962c1d"
      },
      "source": [
        "# Fit the data into scaler and transform\n",
        "X_train['Amount'] = scaler.fit_transform(X_train[['Amount']])"
      ],
      "execution_count": 23,
      "outputs": [
        {
          "output_type": "stream",
          "name": "stderr",
          "text": [
            "/usr/local/lib/python3.7/dist-packages/ipykernel_launcher.py:2: SettingWithCopyWarning: \n",
            "A value is trying to be set on a copy of a slice from a DataFrame.\n",
            "Try using .loc[row_indexer,col_indexer] = value instead\n",
            "\n",
            "See the caveats in the documentation: https://pandas.pydata.org/pandas-docs/stable/user_guide/indexing.html#returning-a-view-versus-a-copy\n",
            "  \n"
          ]
        }
      ]
    },
    {
      "cell_type": "code",
      "metadata": {
        "colab": {
          "base_uri": "https://localhost:8080/",
          "height": 223
        },
        "id": "8shTIkvCzrQm",
        "outputId": "de7cf2c6-703e-4579-c8fe-f1ed44390546"
      },
      "source": [
        "X_train.head()"
      ],
      "execution_count": 24,
      "outputs": [
        {
          "output_type": "execute_result",
          "data": {
            "text/html": [
              "<div>\n",
              "<style scoped>\n",
              "    .dataframe tbody tr th:only-of-type {\n",
              "        vertical-align: middle;\n",
              "    }\n",
              "\n",
              "    .dataframe tbody tr th {\n",
              "        vertical-align: top;\n",
              "    }\n",
              "\n",
              "    .dataframe thead th {\n",
              "        text-align: right;\n",
              "    }\n",
              "</style>\n",
              "<table border=\"1\" class=\"dataframe\">\n",
              "  <thead>\n",
              "    <tr style=\"text-align: right;\">\n",
              "      <th></th>\n",
              "      <th>V1</th>\n",
              "      <th>V2</th>\n",
              "      <th>V3</th>\n",
              "      <th>V4</th>\n",
              "      <th>V5</th>\n",
              "      <th>V6</th>\n",
              "      <th>V7</th>\n",
              "      <th>V8</th>\n",
              "      <th>V9</th>\n",
              "      <th>V10</th>\n",
              "      <th>V11</th>\n",
              "      <th>V12</th>\n",
              "      <th>V13</th>\n",
              "      <th>V14</th>\n",
              "      <th>V15</th>\n",
              "      <th>V16</th>\n",
              "      <th>V17</th>\n",
              "      <th>V18</th>\n",
              "      <th>V19</th>\n",
              "      <th>V20</th>\n",
              "      <th>V21</th>\n",
              "      <th>V22</th>\n",
              "      <th>V23</th>\n",
              "      <th>V24</th>\n",
              "      <th>V25</th>\n",
              "      <th>V26</th>\n",
              "      <th>V27</th>\n",
              "      <th>V28</th>\n",
              "      <th>Amount</th>\n",
              "    </tr>\n",
              "  </thead>\n",
              "  <tbody>\n",
              "    <tr>\n",
              "      <th>52820</th>\n",
              "      <td>1.173017</td>\n",
              "      <td>-0.128571</td>\n",
              "      <td>0.643248</td>\n",
              "      <td>0.233061</td>\n",
              "      <td>-0.628271</td>\n",
              "      <td>-0.485415</td>\n",
              "      <td>-0.241527</td>\n",
              "      <td>-0.116303</td>\n",
              "      <td>0.366875</td>\n",
              "      <td>-0.224226</td>\n",
              "      <td>-0.562480</td>\n",
              "      <td>0.574505</td>\n",
              "      <td>1.206068</td>\n",
              "      <td>-0.159225</td>\n",
              "      <td>1.311652</td>\n",
              "      <td>0.655737</td>\n",
              "      <td>-0.729532</td>\n",
              "      <td>-0.122320</td>\n",
              "      <td>-0.027099</td>\n",
              "      <td>0.110318</td>\n",
              "      <td>-0.085315</td>\n",
              "      <td>-0.310269</td>\n",
              "      <td>-0.018421</td>\n",
              "      <td>-0.064544</td>\n",
              "      <td>0.191526</td>\n",
              "      <td>0.469073</td>\n",
              "      <td>-0.028448</td>\n",
              "      <td>0.028616</td>\n",
              "      <td>-0.116786</td>\n",
              "    </tr>\n",
              "    <tr>\n",
              "      <th>263369</th>\n",
              "      <td>2.060703</td>\n",
              "      <td>-0.111969</td>\n",
              "      <td>-1.078747</td>\n",
              "      <td>0.426953</td>\n",
              "      <td>-0.224233</td>\n",
              "      <td>-1.239221</td>\n",
              "      <td>0.127565</td>\n",
              "      <td>-0.287425</td>\n",
              "      <td>0.669409</td>\n",
              "      <td>0.098129</td>\n",
              "      <td>-0.877883</td>\n",
              "      <td>-0.009819</td>\n",
              "      <td>-0.786206</td>\n",
              "      <td>0.444902</td>\n",
              "      <td>0.132500</td>\n",
              "      <td>-0.067963</td>\n",
              "      <td>-0.236323</td>\n",
              "      <td>-0.768379</td>\n",
              "      <td>0.148437</td>\n",
              "      <td>-0.278700</td>\n",
              "      <td>-0.298327</td>\n",
              "      <td>-0.767055</td>\n",
              "      <td>0.351342</td>\n",
              "      <td>0.023082</td>\n",
              "      <td>-0.328359</td>\n",
              "      <td>0.198207</td>\n",
              "      <td>-0.076305</td>\n",
              "      <td>-0.061637</td>\n",
              "      <td>-0.342951</td>\n",
              "    </tr>\n",
              "    <tr>\n",
              "      <th>117614</th>\n",
              "      <td>-2.450059</td>\n",
              "      <td>-0.439402</td>\n",
              "      <td>1.000223</td>\n",
              "      <td>-1.286907</td>\n",
              "      <td>0.315900</td>\n",
              "      <td>-0.210950</td>\n",
              "      <td>0.932748</td>\n",
              "      <td>-0.114193</td>\n",
              "      <td>0.524442</td>\n",
              "      <td>0.547297</td>\n",
              "      <td>1.436820</td>\n",
              "      <td>0.771434</td>\n",
              "      <td>0.422640</td>\n",
              "      <td>-0.395860</td>\n",
              "      <td>0.261814</td>\n",
              "      <td>0.580279</td>\n",
              "      <td>-0.979744</td>\n",
              "      <td>-0.324681</td>\n",
              "      <td>-0.654993</td>\n",
              "      <td>0.154974</td>\n",
              "      <td>-0.329903</td>\n",
              "      <td>-0.033022</td>\n",
              "      <td>0.158976</td>\n",
              "      <td>-0.246085</td>\n",
              "      <td>-0.133518</td>\n",
              "      <td>0.757618</td>\n",
              "      <td>0.451441</td>\n",
              "      <td>0.547734</td>\n",
              "      <td>0.411409</td>\n",
              "    </tr>\n",
              "    <tr>\n",
              "      <th>51000</th>\n",
              "      <td>-1.687699</td>\n",
              "      <td>-1.741444</td>\n",
              "      <td>1.221717</td>\n",
              "      <td>0.969788</td>\n",
              "      <td>1.125876</td>\n",
              "      <td>-1.367488</td>\n",
              "      <td>-0.922301</td>\n",
              "      <td>0.157094</td>\n",
              "      <td>0.092765</td>\n",
              "      <td>0.234306</td>\n",
              "      <td>0.900478</td>\n",
              "      <td>0.378650</td>\n",
              "      <td>-0.997098</td>\n",
              "      <td>0.342724</td>\n",
              "      <td>0.050528</td>\n",
              "      <td>-0.781989</td>\n",
              "      <td>0.527938</td>\n",
              "      <td>0.175670</td>\n",
              "      <td>2.569091</td>\n",
              "      <td>0.398613</td>\n",
              "      <td>0.025188</td>\n",
              "      <td>-0.139331</td>\n",
              "      <td>0.418568</td>\n",
              "      <td>0.401896</td>\n",
              "      <td>-0.918314</td>\n",
              "      <td>1.026917</td>\n",
              "      <td>-0.174339</td>\n",
              "      <td>0.564932</td>\n",
              "      <td>-0.142391</td>\n",
              "    </tr>\n",
              "    <tr>\n",
              "      <th>151957</th>\n",
              "      <td>1.922549</td>\n",
              "      <td>-0.332096</td>\n",
              "      <td>-0.918880</td>\n",
              "      <td>0.435365</td>\n",
              "      <td>-0.221822</td>\n",
              "      <td>-0.634371</td>\n",
              "      <td>-0.149269</td>\n",
              "      <td>-0.206034</td>\n",
              "      <td>2.186475</td>\n",
              "      <td>-0.420115</td>\n",
              "      <td>1.686601</td>\n",
              "      <td>-1.320344</td>\n",
              "      <td>1.259346</td>\n",
              "      <td>1.732580</td>\n",
              "      <td>-1.814707</td>\n",
              "      <td>-0.558234</td>\n",
              "      <td>0.534444</td>\n",
              "      <td>0.236288</td>\n",
              "      <td>0.244774</td>\n",
              "      <td>-0.225169</td>\n",
              "      <td>0.012316</td>\n",
              "      <td>0.496653</td>\n",
              "      <td>0.021198</td>\n",
              "      <td>0.016844</td>\n",
              "      <td>0.101791</td>\n",
              "      <td>0.132931</td>\n",
              "      <td>-0.061352</td>\n",
              "      <td>-0.072694</td>\n",
              "      <td>-0.187529</td>\n",
              "    </tr>\n",
              "  </tbody>\n",
              "</table>\n",
              "</div>"
            ],
            "text/plain": [
              "              V1        V2        V3        V4        V5        V6        V7  \\\n",
              "52820   1.173017 -0.128571  0.643248  0.233061 -0.628271 -0.485415 -0.241527   \n",
              "263369  2.060703 -0.111969 -1.078747  0.426953 -0.224233 -1.239221  0.127565   \n",
              "117614 -2.450059 -0.439402  1.000223 -1.286907  0.315900 -0.210950  0.932748   \n",
              "51000  -1.687699 -1.741444  1.221717  0.969788  1.125876 -1.367488 -0.922301   \n",
              "151957  1.922549 -0.332096 -0.918880  0.435365 -0.221822 -0.634371 -0.149269   \n",
              "\n",
              "              V8        V9       V10       V11       V12       V13       V14  \\\n",
              "52820  -0.116303  0.366875 -0.224226 -0.562480  0.574505  1.206068 -0.159225   \n",
              "263369 -0.287425  0.669409  0.098129 -0.877883 -0.009819 -0.786206  0.444902   \n",
              "117614 -0.114193  0.524442  0.547297  1.436820  0.771434  0.422640 -0.395860   \n",
              "51000   0.157094  0.092765  0.234306  0.900478  0.378650 -0.997098  0.342724   \n",
              "151957 -0.206034  2.186475 -0.420115  1.686601 -1.320344  1.259346  1.732580   \n",
              "\n",
              "             V15       V16       V17       V18       V19       V20       V21  \\\n",
              "52820   1.311652  0.655737 -0.729532 -0.122320 -0.027099  0.110318 -0.085315   \n",
              "263369  0.132500 -0.067963 -0.236323 -0.768379  0.148437 -0.278700 -0.298327   \n",
              "117614  0.261814  0.580279 -0.979744 -0.324681 -0.654993  0.154974 -0.329903   \n",
              "51000   0.050528 -0.781989  0.527938  0.175670  2.569091  0.398613  0.025188   \n",
              "151957 -1.814707 -0.558234  0.534444  0.236288  0.244774 -0.225169  0.012316   \n",
              "\n",
              "             V22       V23       V24       V25       V26       V27       V28  \\\n",
              "52820  -0.310269 -0.018421 -0.064544  0.191526  0.469073 -0.028448  0.028616   \n",
              "263369 -0.767055  0.351342  0.023082 -0.328359  0.198207 -0.076305 -0.061637   \n",
              "117614 -0.033022  0.158976 -0.246085 -0.133518  0.757618  0.451441  0.547734   \n",
              "51000  -0.139331  0.418568  0.401896 -0.918314  1.026917 -0.174339  0.564932   \n",
              "151957  0.496653  0.021198  0.016844  0.101791  0.132931 -0.061352 -0.072694   \n",
              "\n",
              "          Amount  \n",
              "52820  -0.116786  \n",
              "263369 -0.342951  \n",
              "117614  0.411409  \n",
              "51000  -0.142391  \n",
              "151957 -0.187529  "
            ]
          },
          "metadata": {},
          "execution_count": 24
        }
      ]
    },
    {
      "cell_type": "code",
      "metadata": {
        "colab": {
          "base_uri": "https://localhost:8080/",
          "height": 324
        },
        "id": "yc5TBsZEzsqf",
        "outputId": "f543ab0b-ee12-4fb7-ef1a-3162f09c6588"
      },
      "source": [
        "# Transform the test set\n",
        "X_test['Amount'] = scaler.transform(X_test[['Amount']])\n",
        "X_test.head()"
      ],
      "execution_count": 25,
      "outputs": [
        {
          "output_type": "stream",
          "name": "stderr",
          "text": [
            "/usr/local/lib/python3.7/dist-packages/ipykernel_launcher.py:2: SettingWithCopyWarning: \n",
            "A value is trying to be set on a copy of a slice from a DataFrame.\n",
            "Try using .loc[row_indexer,col_indexer] = value instead\n",
            "\n",
            "See the caveats in the documentation: https://pandas.pydata.org/pandas-docs/stable/user_guide/indexing.html#returning-a-view-versus-a-copy\n",
            "  \n"
          ]
        },
        {
          "output_type": "execute_result",
          "data": {
            "text/html": [
              "<div>\n",
              "<style scoped>\n",
              "    .dataframe tbody tr th:only-of-type {\n",
              "        vertical-align: middle;\n",
              "    }\n",
              "\n",
              "    .dataframe tbody tr th {\n",
              "        vertical-align: top;\n",
              "    }\n",
              "\n",
              "    .dataframe thead th {\n",
              "        text-align: right;\n",
              "    }\n",
              "</style>\n",
              "<table border=\"1\" class=\"dataframe\">\n",
              "  <thead>\n",
              "    <tr style=\"text-align: right;\">\n",
              "      <th></th>\n",
              "      <th>V1</th>\n",
              "      <th>V2</th>\n",
              "      <th>V3</th>\n",
              "      <th>V4</th>\n",
              "      <th>V5</th>\n",
              "      <th>V6</th>\n",
              "      <th>V7</th>\n",
              "      <th>V8</th>\n",
              "      <th>V9</th>\n",
              "      <th>V10</th>\n",
              "      <th>V11</th>\n",
              "      <th>V12</th>\n",
              "      <th>V13</th>\n",
              "      <th>V14</th>\n",
              "      <th>V15</th>\n",
              "      <th>V16</th>\n",
              "      <th>V17</th>\n",
              "      <th>V18</th>\n",
              "      <th>V19</th>\n",
              "      <th>V20</th>\n",
              "      <th>V21</th>\n",
              "      <th>V22</th>\n",
              "      <th>V23</th>\n",
              "      <th>V24</th>\n",
              "      <th>V25</th>\n",
              "      <th>V26</th>\n",
              "      <th>V27</th>\n",
              "      <th>V28</th>\n",
              "      <th>Amount</th>\n",
              "    </tr>\n",
              "  </thead>\n",
              "  <tbody>\n",
              "    <tr>\n",
              "      <th>212072</th>\n",
              "      <td>1.518438</td>\n",
              "      <td>-1.679668</td>\n",
              "      <td>-3.093086</td>\n",
              "      <td>-0.388660</td>\n",
              "      <td>0.164518</td>\n",
              "      <td>-0.769884</td>\n",
              "      <td>0.859728</td>\n",
              "      <td>-0.480274</td>\n",
              "      <td>-1.287091</td>\n",
              "      <td>1.059841</td>\n",
              "      <td>0.160120</td>\n",
              "      <td>-0.243862</td>\n",
              "      <td>-0.980436</td>\n",
              "      <td>1.146851</td>\n",
              "      <td>-0.854013</td>\n",
              "      <td>-1.858838</td>\n",
              "      <td>-0.145729</td>\n",
              "      <td>1.457679</td>\n",
              "      <td>-0.337467</td>\n",
              "      <td>0.112677</td>\n",
              "      <td>0.133875</td>\n",
              "      <td>0.049919</td>\n",
              "      <td>-0.434445</td>\n",
              "      <td>0.413963</td>\n",
              "      <td>0.367950</td>\n",
              "      <td>0.952559</td>\n",
              "      <td>-0.209431</td>\n",
              "      <td>-0.035346</td>\n",
              "      <td>1.186333</td>\n",
              "    </tr>\n",
              "    <tr>\n",
              "      <th>7676</th>\n",
              "      <td>-2.372834</td>\n",
              "      <td>-0.612308</td>\n",
              "      <td>3.224686</td>\n",
              "      <td>3.758968</td>\n",
              "      <td>-0.483226</td>\n",
              "      <td>1.615778</td>\n",
              "      <td>-1.719115</td>\n",
              "      <td>1.101559</td>\n",
              "      <td>1.853864</td>\n",
              "      <td>0.467220</td>\n",
              "      <td>0.978996</td>\n",
              "      <td>-2.285457</td>\n",
              "      <td>0.157705</td>\n",
              "      <td>0.731574</td>\n",
              "      <td>-2.025575</td>\n",
              "      <td>-0.624413</td>\n",
              "      <td>1.654810</td>\n",
              "      <td>0.788221</td>\n",
              "      <td>0.983593</td>\n",
              "      <td>0.350868</td>\n",
              "      <td>-0.021965</td>\n",
              "      <td>0.630479</td>\n",
              "      <td>-0.499405</td>\n",
              "      <td>0.021481</td>\n",
              "      <td>0.060255</td>\n",
              "      <td>0.499542</td>\n",
              "      <td>0.329417</td>\n",
              "      <td>-0.259837</td>\n",
              "      <td>-0.106940</td>\n",
              "    </tr>\n",
              "    <tr>\n",
              "      <th>83150</th>\n",
              "      <td>1.259924</td>\n",
              "      <td>0.259231</td>\n",
              "      <td>0.516221</td>\n",
              "      <td>0.620255</td>\n",
              "      <td>-0.469781</td>\n",
              "      <td>-0.990647</td>\n",
              "      <td>0.071091</td>\n",
              "      <td>-0.213189</td>\n",
              "      <td>0.025140</td>\n",
              "      <td>-0.069639</td>\n",
              "      <td>-0.192358</td>\n",
              "      <td>0.439239</td>\n",
              "      <td>0.445544</td>\n",
              "      <td>0.213424</td>\n",
              "      <td>1.017437</td>\n",
              "      <td>0.296300</td>\n",
              "      <td>-0.429983</td>\n",
              "      <td>-0.558768</td>\n",
              "      <td>-0.120364</td>\n",
              "      <td>-0.084556</td>\n",
              "      <td>-0.255738</td>\n",
              "      <td>-0.733569</td>\n",
              "      <td>0.134905</td>\n",
              "      <td>0.383876</td>\n",
              "      <td>0.221633</td>\n",
              "      <td>0.094060</td>\n",
              "      <td>-0.028236</td>\n",
              "      <td>0.019346</td>\n",
              "      <td>-0.342951</td>\n",
              "    </tr>\n",
              "    <tr>\n",
              "      <th>125745</th>\n",
              "      <td>-0.432809</td>\n",
              "      <td>0.441564</td>\n",
              "      <td>2.135267</td>\n",
              "      <td>1.571277</td>\n",
              "      <td>0.007931</td>\n",
              "      <td>1.057945</td>\n",
              "      <td>-0.090015</td>\n",
              "      <td>0.405717</td>\n",
              "      <td>0.597818</td>\n",
              "      <td>-0.578365</td>\n",
              "      <td>-1.667500</td>\n",
              "      <td>0.406568</td>\n",
              "      <td>-0.271180</td>\n",
              "      <td>-0.767383</td>\n",
              "      <td>-1.352631</td>\n",
              "      <td>-1.491651</td>\n",
              "      <td>0.969220</td>\n",
              "      <td>-0.874141</td>\n",
              "      <td>1.488738</td>\n",
              "      <td>0.010397</td>\n",
              "      <td>-0.325426</td>\n",
              "      <td>-0.474865</td>\n",
              "      <td>-0.051495</td>\n",
              "      <td>-0.426681</td>\n",
              "      <td>-0.322176</td>\n",
              "      <td>-0.406189</td>\n",
              "      <td>0.233169</td>\n",
              "      <td>0.152133</td>\n",
              "      <td>-0.320640</td>\n",
              "    </tr>\n",
              "    <tr>\n",
              "      <th>84402</th>\n",
              "      <td>-1.152360</td>\n",
              "      <td>0.039113</td>\n",
              "      <td>1.395097</td>\n",
              "      <td>0.304623</td>\n",
              "      <td>1.032487</td>\n",
              "      <td>0.037363</td>\n",
              "      <td>0.547830</td>\n",
              "      <td>0.280413</td>\n",
              "      <td>-0.416573</td>\n",
              "      <td>-0.628372</td>\n",
              "      <td>0.534569</td>\n",
              "      <td>0.643442</td>\n",
              "      <td>-0.645044</td>\n",
              "      <td>0.215940</td>\n",
              "      <td>-1.374269</td>\n",
              "      <td>-0.260110</td>\n",
              "      <td>-0.337424</td>\n",
              "      <td>-0.188210</td>\n",
              "      <td>-0.514797</td>\n",
              "      <td>0.076870</td>\n",
              "      <td>0.108875</td>\n",
              "      <td>0.131383</td>\n",
              "      <td>-0.008996</td>\n",
              "      <td>-0.320344</td>\n",
              "      <td>0.203435</td>\n",
              "      <td>-0.489482</td>\n",
              "      <td>0.074864</td>\n",
              "      <td>0.119731</td>\n",
              "      <td>-0.072124</td>\n",
              "    </tr>\n",
              "  </tbody>\n",
              "</table>\n",
              "</div>"
            ],
            "text/plain": [
              "              V1        V2        V3        V4        V5        V6        V7  \\\n",
              "212072  1.518438 -1.679668 -3.093086 -0.388660  0.164518 -0.769884  0.859728   \n",
              "7676   -2.372834 -0.612308  3.224686  3.758968 -0.483226  1.615778 -1.719115   \n",
              "83150   1.259924  0.259231  0.516221  0.620255 -0.469781 -0.990647  0.071091   \n",
              "125745 -0.432809  0.441564  2.135267  1.571277  0.007931  1.057945 -0.090015   \n",
              "84402  -1.152360  0.039113  1.395097  0.304623  1.032487  0.037363  0.547830   \n",
              "\n",
              "              V8        V9       V10       V11       V12       V13       V14  \\\n",
              "212072 -0.480274 -1.287091  1.059841  0.160120 -0.243862 -0.980436  1.146851   \n",
              "7676    1.101559  1.853864  0.467220  0.978996 -2.285457  0.157705  0.731574   \n",
              "83150  -0.213189  0.025140 -0.069639 -0.192358  0.439239  0.445544  0.213424   \n",
              "125745  0.405717  0.597818 -0.578365 -1.667500  0.406568 -0.271180 -0.767383   \n",
              "84402   0.280413 -0.416573 -0.628372  0.534569  0.643442 -0.645044  0.215940   \n",
              "\n",
              "             V15       V16       V17       V18       V19       V20       V21  \\\n",
              "212072 -0.854013 -1.858838 -0.145729  1.457679 -0.337467  0.112677  0.133875   \n",
              "7676   -2.025575 -0.624413  1.654810  0.788221  0.983593  0.350868 -0.021965   \n",
              "83150   1.017437  0.296300 -0.429983 -0.558768 -0.120364 -0.084556 -0.255738   \n",
              "125745 -1.352631 -1.491651  0.969220 -0.874141  1.488738  0.010397 -0.325426   \n",
              "84402  -1.374269 -0.260110 -0.337424 -0.188210 -0.514797  0.076870  0.108875   \n",
              "\n",
              "             V22       V23       V24       V25       V26       V27       V28  \\\n",
              "212072  0.049919 -0.434445  0.413963  0.367950  0.952559 -0.209431 -0.035346   \n",
              "7676    0.630479 -0.499405  0.021481  0.060255  0.499542  0.329417 -0.259837   \n",
              "83150  -0.733569  0.134905  0.383876  0.221633  0.094060 -0.028236  0.019346   \n",
              "125745 -0.474865 -0.051495 -0.426681 -0.322176 -0.406189  0.233169  0.152133   \n",
              "84402   0.131383 -0.008996 -0.320344  0.203435 -0.489482  0.074864  0.119731   \n",
              "\n",
              "          Amount  \n",
              "212072  1.186333  \n",
              "7676   -0.106940  \n",
              "83150  -0.342951  \n",
              "125745 -0.320640  \n",
              "84402  -0.072124  "
            ]
          },
          "metadata": {},
          "execution_count": 25
        }
      ]
    },
    {
      "cell_type": "code",
      "metadata": {
        "colab": {
          "base_uri": "https://localhost:8080/"
        },
        "id": "YNiDa0J6zwMV",
        "outputId": "63225815-1c80-4320-ff07-51adeda75a43"
      },
      "source": [
        "# Listing the columns\n",
        "cols = X_train.columns\n",
        "cols"
      ],
      "execution_count": 26,
      "outputs": [
        {
          "output_type": "execute_result",
          "data": {
            "text/plain": [
              "Index(['V1', 'V2', 'V3', 'V4', 'V5', 'V6', 'V7', 'V8', 'V9', 'V10', 'V11',\n",
              "       'V12', 'V13', 'V14', 'V15', 'V16', 'V17', 'V18', 'V19', 'V20', 'V21',\n",
              "       'V22', 'V23', 'V24', 'V25', 'V26', 'V27', 'V28', 'Amount'],\n",
              "      dtype='object')"
            ]
          },
          "metadata": {},
          "execution_count": 26
        }
      ]
    },
    {
      "cell_type": "code",
      "metadata": {
        "colab": {
          "base_uri": "https://localhost:8080/"
        },
        "id": "2IcVYWPSz2mO",
        "outputId": "577cb956-3125-4b0a-ce6d-e8d5abd472a1"
      },
      "source": [
        "X_train.isnull().any()"
      ],
      "execution_count": 27,
      "outputs": [
        {
          "output_type": "execute_result",
          "data": {
            "text/plain": [
              "V1        False\n",
              "V2        False\n",
              "V3        False\n",
              "V4        False\n",
              "V5        False\n",
              "V6        False\n",
              "V7        False\n",
              "V8        False\n",
              "V9        False\n",
              "V10       False\n",
              "V11       False\n",
              "V12       False\n",
              "V13       False\n",
              "V14       False\n",
              "V15       False\n",
              "V16       False\n",
              "V17       False\n",
              "V18       False\n",
              "V19       False\n",
              "V20       False\n",
              "V21       False\n",
              "V22       False\n",
              "V23       False\n",
              "V24       False\n",
              "V25       False\n",
              "V26       False\n",
              "V27       False\n",
              "V28       False\n",
              "Amount    False\n",
              "dtype: bool"
            ]
          },
          "metadata": {},
          "execution_count": 27
        }
      ]
    },
    {
      "cell_type": "markdown",
      "metadata": {
        "id": "FMaWw0rrBH9c"
      },
      "source": [
        "**Building SMOTE**"
      ]
    },
    {
      "cell_type": "code",
      "metadata": {
        "id": "3lfcROOdz5gO",
        "colab": {
          "base_uri": "https://localhost:8080/"
        },
        "outputId": "da96ed96-5def-429a-d90a-404aabd6afb1"
      },
      "source": [
        "# Instantiate SMOTE\n",
        "sm = SMOTE(random_state=27)\n",
        "# Fitting SMOTE to the train set\n",
        "X_train_smote, y_train_smote = sm.fit_sample(X_train, y_train)"
      ],
      "execution_count": 28,
      "outputs": [
        {
          "output_type": "stream",
          "name": "stderr",
          "text": [
            "/usr/local/lib/python3.7/dist-packages/sklearn/utils/deprecation.py:87: FutureWarning: Function safe_indexing is deprecated; safe_indexing is deprecated in version 0.22 and will be removed in version 0.24.\n",
            "  warnings.warn(msg, category=FutureWarning)\n"
          ]
        }
      ]
    },
    {
      "cell_type": "code",
      "metadata": {
        "colab": {
          "base_uri": "https://localhost:8080/"
        },
        "id": "2S2j2tsIz87t",
        "outputId": "3a3fccf1-346b-46e1-ec0f-6f2377a2cab8"
      },
      "source": [
        "print('Before SMOTE oversampling X_train shape=',X_train.shape)\n",
        "print('After SMOTE oversampling X_train shape=',X_train_smote.shape)"
      ],
      "execution_count": 29,
      "outputs": [
        {
          "output_type": "stream",
          "name": "stdout",
          "text": [
            "Before SMOTE oversampling X_train shape= (227845, 29)\n",
            "After SMOTE oversampling X_train shape= (454894, 29)\n"
          ]
        }
      ]
    },
    {
      "cell_type": "code",
      "metadata": {
        "colab": {
          "base_uri": "https://localhost:8080/"
        },
        "id": "XFYEtDxwX9ek",
        "outputId": "a6eb6b32-867d-4a91-b241-9e00eb8446eb"
      },
      "source": [
        "from collections import Counter\n",
        "counter=Counter(y_train_smote)\n",
        "print('After Applying SMOTE', counter)"
      ],
      "execution_count": 30,
      "outputs": [
        {
          "output_type": "stream",
          "name": "stdout",
          "text": [
            "After Applying SMOTE Counter({0: 227447, 1: 227447})\n"
          ]
        }
      ]
    },
    {
      "cell_type": "markdown",
      "metadata": {
        "id": "cLYslB-vBVga"
      },
      "source": [
        "**Building Logistic Regression Model**"
      ]
    },
    {
      "cell_type": "code",
      "metadata": {
        "colab": {
          "base_uri": "https://localhost:8080/"
        },
        "id": "BEDvFJ_F1QNK",
        "outputId": "171ebd86-9479-4717-c9ba-f36980b187c4"
      },
      "source": [
        "# Creating KFold object with 5 splits\n",
        "folds = KFold(n_splits=5, shuffle=True, random_state=4)\n",
        "\n",
        "# Specify params\n",
        "params = {\"C\": [0.01, 0.1, 1, 10, 100, 1000]}\n",
        "\n",
        "# Specifing score as roc-auc\n",
        "model_cv = GridSearchCV(estimator = LogisticRegression(),\n",
        "                        param_grid = params, \n",
        "                        scoring= 'roc_auc', \n",
        "                        cv = folds, \n",
        "                        verbose = 1,\n",
        "                        return_train_score=True) \n",
        "\n",
        "# Fit the model\n",
        "model_cv.fit(X_train_smote, y_train_smote)"
      ],
      "execution_count": 31,
      "outputs": [
        {
          "output_type": "stream",
          "name": "stdout",
          "text": [
            "Fitting 5 folds for each of 6 candidates, totalling 30 fits\n"
          ]
        },
        {
          "output_type": "stream",
          "name": "stderr",
          "text": [
            "[Parallel(n_jobs=1)]: Using backend SequentialBackend with 1 concurrent workers.\n",
            "[Parallel(n_jobs=1)]: Done  30 out of  30 | elapsed:  2.5min finished\n"
          ]
        },
        {
          "output_type": "execute_result",
          "data": {
            "text/plain": [
              "GridSearchCV(cv=KFold(n_splits=5, random_state=4, shuffle=True),\n",
              "             error_score=nan,\n",
              "             estimator=LogisticRegression(C=1.0, class_weight=None, dual=False,\n",
              "                                          fit_intercept=True,\n",
              "                                          intercept_scaling=1, l1_ratio=None,\n",
              "                                          max_iter=100, multi_class='auto',\n",
              "                                          n_jobs=None, penalty='l2',\n",
              "                                          random_state=None, solver='lbfgs',\n",
              "                                          tol=0.0001, verbose=0,\n",
              "                                          warm_start=False),\n",
              "             iid='deprecated', n_jobs=None,\n",
              "             param_grid={'C': [0.01, 0.1, 1, 10, 100, 1000]},\n",
              "             pre_dispatch='2*n_jobs', refit=True, return_train_score=True,\n",
              "             scoring='roc_auc', verbose=1)"
            ]
          },
          "metadata": {},
          "execution_count": 31
        }
      ]
    },
    {
      "cell_type": "code",
      "metadata": {
        "id": "4m_GCUedZuTx"
      },
      "source": [
        "# Creating KFold object with 5 splits\n",
        "# folds = KFold(n_splits=5, shuffle=True, random_state=4)\n",
        "\n",
        "# param_grid = [\n",
        "#     {'classifier' : [LogisticRegression()],\n",
        "#      'classifier__penalty' : ['l1', 'l2'],\n",
        "#     'classifier__C' : np.logspace(-4, 4, 20),\n",
        "#     'classifier__solver' : ['liblinear']}\n",
        "\n",
        "# ]\n",
        "# clf = GridSearchCV(param_grid = param_grid, cv = folds, verbose=True, n_jobs=-1)\n",
        "# best_clf = clf.fit(X_train_smote, y_train_smote)"
      ],
      "execution_count": 2,
      "outputs": []
    },
    {
      "cell_type": "code",
      "metadata": {
        "id": "iX1RhDZ90BE0"
      },
      "source": [
        "# # Creating KFold object with 5 splits\n",
        "# folds = KFold(n_splits=5, shuffle=True, random_state=4)\n",
        "\n",
        "# # Specify params\n",
        "# params = {'C': [0.01, 0.1, 1, 10, 100, 1000],\n",
        "#            'solver':[\"newton-cg\", \"lbfgs\", \"liblinear\", \"sag\", \"saga\"],\n",
        "#           'penalty':['l1','l2']\n",
        "#           }\n",
        "\n",
        "# # Specifing score as roc-auc\n",
        "# model_cv = GridSearchCV(estimator = LogisticRegression(),\n",
        "#                         param_grid = params, \n",
        "#                         scoring= 'roc_auc', \n",
        "#                         cv = folds, \n",
        "#                         verbose = 1,\n",
        "#                         return_train_score=True) \n",
        "\n",
        "# # Fit the model\n",
        "# model_cv.fit(X_train_smote, y_train_smote)"
      ],
      "execution_count": 1,
      "outputs": []
    },
    {
      "cell_type": "code",
      "metadata": {
        "id": "k5uGrEYV0Q3N",
        "colab": {
          "base_uri": "https://localhost:8080/",
          "height": 338
        },
        "outputId": "20717f49-5b8e-41a1-e373-1aa889907c21"
      },
      "source": [
        "# results of grid search CV\n",
        "cv_results = pd.DataFrame(model_cv.cv_results_)\n",
        "cv_results"
      ],
      "execution_count": 32,
      "outputs": [
        {
          "output_type": "execute_result",
          "data": {
            "text/html": [
              "<div>\n",
              "<style scoped>\n",
              "    .dataframe tbody tr th:only-of-type {\n",
              "        vertical-align: middle;\n",
              "    }\n",
              "\n",
              "    .dataframe tbody tr th {\n",
              "        vertical-align: top;\n",
              "    }\n",
              "\n",
              "    .dataframe thead th {\n",
              "        text-align: right;\n",
              "    }\n",
              "</style>\n",
              "<table border=\"1\" class=\"dataframe\">\n",
              "  <thead>\n",
              "    <tr style=\"text-align: right;\">\n",
              "      <th></th>\n",
              "      <th>mean_fit_time</th>\n",
              "      <th>std_fit_time</th>\n",
              "      <th>mean_score_time</th>\n",
              "      <th>std_score_time</th>\n",
              "      <th>param_C</th>\n",
              "      <th>params</th>\n",
              "      <th>split0_test_score</th>\n",
              "      <th>split1_test_score</th>\n",
              "      <th>split2_test_score</th>\n",
              "      <th>split3_test_score</th>\n",
              "      <th>split4_test_score</th>\n",
              "      <th>mean_test_score</th>\n",
              "      <th>std_test_score</th>\n",
              "      <th>rank_test_score</th>\n",
              "      <th>split0_train_score</th>\n",
              "      <th>split1_train_score</th>\n",
              "      <th>split2_train_score</th>\n",
              "      <th>split3_train_score</th>\n",
              "      <th>split4_train_score</th>\n",
              "      <th>mean_train_score</th>\n",
              "      <th>std_train_score</th>\n",
              "    </tr>\n",
              "  </thead>\n",
              "  <tbody>\n",
              "    <tr>\n",
              "      <th>0</th>\n",
              "      <td>4.222033</td>\n",
              "      <td>0.209560</td>\n",
              "      <td>0.053274</td>\n",
              "      <td>0.004319</td>\n",
              "      <td>0.01</td>\n",
              "      <td>{'C': 0.01}</td>\n",
              "      <td>0.987816</td>\n",
              "      <td>0.987522</td>\n",
              "      <td>0.987721</td>\n",
              "      <td>0.987931</td>\n",
              "      <td>0.987783</td>\n",
              "      <td>0.987755</td>\n",
              "      <td>0.000135</td>\n",
              "      <td>6</td>\n",
              "      <td>0.987737</td>\n",
              "      <td>0.987826</td>\n",
              "      <td>0.987784</td>\n",
              "      <td>0.987721</td>\n",
              "      <td>0.987766</td>\n",
              "      <td>0.987767</td>\n",
              "      <td>0.000037</td>\n",
              "    </tr>\n",
              "    <tr>\n",
              "      <th>1</th>\n",
              "      <td>4.908997</td>\n",
              "      <td>0.250536</td>\n",
              "      <td>0.054659</td>\n",
              "      <td>0.004803</td>\n",
              "      <td>0.1</td>\n",
              "      <td>{'C': 0.1}</td>\n",
              "      <td>0.988076</td>\n",
              "      <td>0.987789</td>\n",
              "      <td>0.987976</td>\n",
              "      <td>0.988200</td>\n",
              "      <td>0.988040</td>\n",
              "      <td>0.988016</td>\n",
              "      <td>0.000135</td>\n",
              "      <td>5</td>\n",
              "      <td>0.987988</td>\n",
              "      <td>0.988080</td>\n",
              "      <td>0.988055</td>\n",
              "      <td>0.987978</td>\n",
              "      <td>0.988038</td>\n",
              "      <td>0.988028</td>\n",
              "      <td>0.000039</td>\n",
              "    </tr>\n",
              "    <tr>\n",
              "      <th>2</th>\n",
              "      <td>4.969703</td>\n",
              "      <td>0.327952</td>\n",
              "      <td>0.055296</td>\n",
              "      <td>0.004308</td>\n",
              "      <td>1</td>\n",
              "      <td>{'C': 1}</td>\n",
              "      <td>0.988129</td>\n",
              "      <td>0.987845</td>\n",
              "      <td>0.988031</td>\n",
              "      <td>0.988258</td>\n",
              "      <td>0.988094</td>\n",
              "      <td>0.988071</td>\n",
              "      <td>0.000135</td>\n",
              "      <td>4</td>\n",
              "      <td>0.988040</td>\n",
              "      <td>0.988134</td>\n",
              "      <td>0.988113</td>\n",
              "      <td>0.988032</td>\n",
              "      <td>0.988095</td>\n",
              "      <td>0.988083</td>\n",
              "      <td>0.000040</td>\n",
              "    </tr>\n",
              "    <tr>\n",
              "      <th>3</th>\n",
              "      <td>5.024849</td>\n",
              "      <td>0.440564</td>\n",
              "      <td>0.052513</td>\n",
              "      <td>0.003177</td>\n",
              "      <td>10</td>\n",
              "      <td>{'C': 10}</td>\n",
              "      <td>0.988136</td>\n",
              "      <td>0.987852</td>\n",
              "      <td>0.988038</td>\n",
              "      <td>0.988265</td>\n",
              "      <td>0.988100</td>\n",
              "      <td>0.988078</td>\n",
              "      <td>0.000135</td>\n",
              "      <td>3</td>\n",
              "      <td>0.988047</td>\n",
              "      <td>0.988140</td>\n",
              "      <td>0.988121</td>\n",
              "      <td>0.988039</td>\n",
              "      <td>0.988101</td>\n",
              "      <td>0.988090</td>\n",
              "      <td>0.000040</td>\n",
              "    </tr>\n",
              "    <tr>\n",
              "      <th>4</th>\n",
              "      <td>5.002267</td>\n",
              "      <td>0.492327</td>\n",
              "      <td>0.052587</td>\n",
              "      <td>0.005076</td>\n",
              "      <td>100</td>\n",
              "      <td>{'C': 100}</td>\n",
              "      <td>0.988134</td>\n",
              "      <td>0.987852</td>\n",
              "      <td>0.988039</td>\n",
              "      <td>0.988265</td>\n",
              "      <td>0.988101</td>\n",
              "      <td>0.988078</td>\n",
              "      <td>0.000135</td>\n",
              "      <td>2</td>\n",
              "      <td>0.988045</td>\n",
              "      <td>0.988141</td>\n",
              "      <td>0.988121</td>\n",
              "      <td>0.988039</td>\n",
              "      <td>0.988102</td>\n",
              "      <td>0.988090</td>\n",
              "      <td>0.000041</td>\n",
              "    </tr>\n",
              "    <tr>\n",
              "      <th>5</th>\n",
              "      <td>4.872770</td>\n",
              "      <td>0.327642</td>\n",
              "      <td>0.052127</td>\n",
              "      <td>0.004310</td>\n",
              "      <td>1000</td>\n",
              "      <td>{'C': 1000}</td>\n",
              "      <td>0.988134</td>\n",
              "      <td>0.987852</td>\n",
              "      <td>0.988038</td>\n",
              "      <td>0.988266</td>\n",
              "      <td>0.988101</td>\n",
              "      <td>0.988078</td>\n",
              "      <td>0.000135</td>\n",
              "      <td>1</td>\n",
              "      <td>0.988045</td>\n",
              "      <td>0.988141</td>\n",
              "      <td>0.988121</td>\n",
              "      <td>0.988039</td>\n",
              "      <td>0.988102</td>\n",
              "      <td>0.988090</td>\n",
              "      <td>0.000041</td>\n",
              "    </tr>\n",
              "  </tbody>\n",
              "</table>\n",
              "</div>"
            ],
            "text/plain": [
              "   mean_fit_time  std_fit_time  mean_score_time  std_score_time param_C  \\\n",
              "0       4.222033      0.209560         0.053274        0.004319    0.01   \n",
              "1       4.908997      0.250536         0.054659        0.004803     0.1   \n",
              "2       4.969703      0.327952         0.055296        0.004308       1   \n",
              "3       5.024849      0.440564         0.052513        0.003177      10   \n",
              "4       5.002267      0.492327         0.052587        0.005076     100   \n",
              "5       4.872770      0.327642         0.052127        0.004310    1000   \n",
              "\n",
              "        params  split0_test_score  split1_test_score  split2_test_score  \\\n",
              "0  {'C': 0.01}           0.987816           0.987522           0.987721   \n",
              "1   {'C': 0.1}           0.988076           0.987789           0.987976   \n",
              "2     {'C': 1}           0.988129           0.987845           0.988031   \n",
              "3    {'C': 10}           0.988136           0.987852           0.988038   \n",
              "4   {'C': 100}           0.988134           0.987852           0.988039   \n",
              "5  {'C': 1000}           0.988134           0.987852           0.988038   \n",
              "\n",
              "   split3_test_score  split4_test_score  mean_test_score  std_test_score  \\\n",
              "0           0.987931           0.987783         0.987755        0.000135   \n",
              "1           0.988200           0.988040         0.988016        0.000135   \n",
              "2           0.988258           0.988094         0.988071        0.000135   \n",
              "3           0.988265           0.988100         0.988078        0.000135   \n",
              "4           0.988265           0.988101         0.988078        0.000135   \n",
              "5           0.988266           0.988101         0.988078        0.000135   \n",
              "\n",
              "   rank_test_score  split0_train_score  split1_train_score  \\\n",
              "0                6            0.987737            0.987826   \n",
              "1                5            0.987988            0.988080   \n",
              "2                4            0.988040            0.988134   \n",
              "3                3            0.988047            0.988140   \n",
              "4                2            0.988045            0.988141   \n",
              "5                1            0.988045            0.988141   \n",
              "\n",
              "   split2_train_score  split3_train_score  split4_train_score  \\\n",
              "0            0.987784            0.987721            0.987766   \n",
              "1            0.988055            0.987978            0.988038   \n",
              "2            0.988113            0.988032            0.988095   \n",
              "3            0.988121            0.988039            0.988101   \n",
              "4            0.988121            0.988039            0.988102   \n",
              "5            0.988121            0.988039            0.988102   \n",
              "\n",
              "   mean_train_score  std_train_score  \n",
              "0          0.987767         0.000037  \n",
              "1          0.988028         0.000039  \n",
              "2          0.988083         0.000040  \n",
              "3          0.988090         0.000040  \n",
              "4          0.988090         0.000041  \n",
              "5          0.988090         0.000041  "
            ]
          },
          "metadata": {},
          "execution_count": 32
        }
      ]
    },
    {
      "cell_type": "code",
      "metadata": {
        "id": "8XIiP80O0T3O",
        "colab": {
          "base_uri": "https://localhost:8080/",
          "height": 392
        },
        "outputId": "6aab9d07-b66c-46ee-9e3d-c7d7d8c90db2"
      },
      "source": [
        "# plot of C versus train and validation scores\n",
        "\n",
        "plt.figure(figsize=(8, 6))\n",
        "plt.plot(cv_results['param_C'], cv_results['mean_test_score'])\n",
        "plt.plot(cv_results['param_C'], cv_results['mean_train_score'])\n",
        "plt.xlabel('C')\n",
        "plt.ylabel('roc_auc')\n",
        "plt.legend(['test result', 'train result'], loc='upper left')\n",
        "plt.xscale('log')"
      ],
      "execution_count": 33,
      "outputs": [
        {
          "output_type": "display_data",
          "data": {
            "image/png": "[encoded data removed]",
            "text/plain": [
              "<Figure size 576x432 with 1 Axes>"
            ]
          },
          "metadata": {
            "needs_background": "light"
          }
        }
      ]
    },
    {
      "cell_type": "markdown",
      "metadata": {
        "id": "mcYi_Y7ABfwi"
      },
      "source": [
        "**Finding best value of C**"
      ]
    },
    {
      "cell_type": "code",
      "metadata": {
        "id": "Hnl23er70W8_",
        "colab": {
          "base_uri": "https://localhost:8080/"
        },
        "outputId": "83b9c3b1-e741-47b4-f4c6-3fc2bec80a72"
      },
      "source": [
        "# Best score with best C\n",
        "best_score = model_cv.best_score_\n",
        "best_C = model_cv.best_params_['C']\n",
        "\n",
        "print(\" The highest test roc_auc is {0} at C = {1}\".format(best_score, best_C))"
      ],
      "execution_count": 34,
      "outputs": [
        {
          "output_type": "stream",
          "name": "stdout",
          "text": [
            " The highest test roc_auc is 0.9880782854343764 at C = 1000\n"
          ]
        }
      ]
    },
    {
      "cell_type": "markdown",
      "metadata": {
        "id": "aqsbcQ9OBjdX"
      },
      "source": [
        "**Using Best value of C**"
      ]
    },
    {
      "cell_type": "code",
      "metadata": {
        "id": "Vitrx-4f0Xss"
      },
      "source": [
        "# Instantiate the model with best C\n",
        "logistic_bal_smote = LogisticRegression(C=1000)"
      ],
      "execution_count": 35,
      "outputs": []
    },
    {
      "cell_type": "code",
      "metadata": {
        "id": "yJXAAY3l0bFl"
      },
      "source": [
        "# Fit the model on the train set\n",
        "logistic_bal_smote_model = logistic_bal_smote.fit(X_train_smote, y_train_smote)"
      ],
      "execution_count": 36,
      "outputs": []
    },
    {
      "cell_type": "code",
      "metadata": {
        "id": "4WxWQ5ey0ciM"
      },
      "source": [
        "# Predictions on the train set\n",
        "y_train_pred = logistic_bal_smote_model.predict(X_train_smote)"
      ],
      "execution_count": 37,
      "outputs": []
    },
    {
      "cell_type": "code",
      "metadata": {
        "colab": {
          "base_uri": "https://localhost:8080/"
        },
        "id": "R0fTtxMH0esm",
        "outputId": "3430e23b-e53c-416b-a8d7-dbe59da48def"
      },
      "source": [
        "# Confusion matrix\n",
        "confusion = metrics.confusion_matrix(y_train_smote, y_train_pred)\n",
        "print(confusion)"
      ],
      "execution_count": 38,
      "outputs": [
        {
          "output_type": "stream",
          "name": "stdout",
          "text": [
            "[[221611   5836]\n",
            " [ 20093 207354]]\n"
          ]
        }
      ]
    },
    {
      "cell_type": "code",
      "metadata": {
        "id": "_uV-kY_20glc"
      },
      "source": [
        "TP = confusion[1,1] # true positive \n",
        "TN = confusion[0,0] # true negatives\n",
        "FP = confusion[0,1] # false positives\n",
        "FN = confusion[1,0] # false negatives"
      ],
      "execution_count": 39,
      "outputs": []
    },
    {
      "cell_type": "markdown",
      "metadata": {
        "id": "2MGgEFeABnmJ"
      },
      "source": [
        "**Calculating the efficiency** "
      ]
    },
    {
      "cell_type": "code",
      "metadata": {
        "colab": {
          "base_uri": "https://localhost:8080/"
        },
        "id": "NTxuQkwH0p9d",
        "outputId": "a63a28b9-bc78-4199-9325-28936441570a"
      },
      "source": [
        "# Accuracy\n",
        "print(\"Accuracy:-\",metrics.accuracy_score(y_train_smote, y_train_pred))\n",
        "\n",
        "# Sensitivity\n",
        "print(\"Sensitivity:-\",TP / float(TP+FN))\n",
        "\n",
        "# Specificity\n",
        "print(\"Specificity:-\", TN / float(TN+FP))"
      ],
      "execution_count": 40,
      "outputs": [
        {
          "output_type": "stream",
          "name": "stdout",
          "text": [
            "Accuracy:- 0.942999907670798\n",
            "Sensitivity:- 0.9116585402313506\n",
            "Specificity:- 0.9743412751102455\n"
          ]
        }
      ]
    },
    {
      "cell_type": "code",
      "metadata": {
        "colab": {
          "base_uri": "https://localhost:8080/"
        },
        "id": "_UGd7kPz0tVd",
        "outputId": "d20e0037-9336-49b8-c979-911d2af45f3d"
      },
      "source": [
        "# classification_report\n",
        "print(classification_report(y_train_smote, y_train_pred))"
      ],
      "execution_count": 41,
      "outputs": [
        {
          "output_type": "stream",
          "name": "stdout",
          "text": [
            "              precision    recall  f1-score   support\n",
            "\n",
            "           0       0.92      0.97      0.94    227447\n",
            "           1       0.97      0.91      0.94    227447\n",
            "\n",
            "    accuracy                           0.94    454894\n",
            "   macro avg       0.94      0.94      0.94    454894\n",
            "weighted avg       0.94      0.94      0.94    454894\n",
            "\n"
          ]
        }
      ]
    },
    {
      "cell_type": "code",
      "metadata": {
        "id": "fnvfFGpa0u_P"
      },
      "source": [
        "# Predicted probability\n",
        "y_train_pred_proba_log_bal_smote = logistic_bal_smote_model.predict_proba(X_train_smote)[:,1]"
      ],
      "execution_count": 42,
      "outputs": []
    },
    {
      "cell_type": "code",
      "metadata": {
        "id": "299mgEEz0weG"
      },
      "source": [
        "# ROC Curve function\n",
        "\n",
        "def draw_roc( actual, probs ):\n",
        "    fpr, tpr, thresholds = metrics.roc_curve( actual, probs,\n",
        "                                              drop_intermediate = False )\n",
        "    auc_score = metrics.roc_auc_score( actual, probs )\n",
        "    plt.figure(figsize=(5, 5))\n",
        "    plt.plot( fpr, tpr, label='ROC curve (area = %0.2f)' % auc_score )\n",
        "    plt.plot([0, 1], [0, 1], 'k--')\n",
        "    plt.xlim([0.0, 1.0])\n",
        "    plt.ylim([0.0, 1.05])\n",
        "    plt.xlabel('False Positive Rate or [1 - True Negative Rate]')\n",
        "    plt.ylabel('True Positive Rate')\n",
        "    plt.title('Receiver operating characteristic example')\n",
        "    plt.legend(loc=\"lower right\")\n",
        "    plt.show()\n",
        "\n",
        "    return None"
      ],
      "execution_count": 43,
      "outputs": []
    },
    {
      "cell_type": "code",
      "metadata": {
        "colab": {
          "base_uri": "https://localhost:8080/",
          "height": 350
        },
        "id": "kBpFgVyG0yxX",
        "outputId": "7f65aef0-dfe1-443e-cc78-c5093a9bb206"
      },
      "source": [
        "# Plot the ROC curve\n",
        "draw_roc(y_train_smote, y_train_pred_proba_log_bal_smote)"
      ],
      "execution_count": 44,
      "outputs": [
        {
          "output_type": "display_data",
          "data": {
            "image/png": "[encoded data removed]",
            "text/plain": [
              "<Figure size 360x360 with 1 Axes>"
            ]
          },
          "metadata": {
            "needs_background": "light"
          }
        }
      ]
    },
    {
      "cell_type": "code",
      "metadata": {
        "id": "tXzoA0ME01c3"
      },
      "source": [
        "# Prediction on the test set\n",
        "y_test_pred = logistic_bal_smote_model.predict(X_test)"
      ],
      "execution_count": 45,
      "outputs": []
    },
    {
      "cell_type": "code",
      "metadata": {
        "colab": {
          "base_uri": "https://localhost:8080/"
        },
        "id": "rBU3vQjb01fE",
        "outputId": "44c9a172-c697-4062-d499-48ef7430aee0"
      },
      "source": [
        "# Confusion matrix\n",
        "confusion = metrics.confusion_matrix(y_test, y_test_pred)\n",
        "print(confusion)"
      ],
      "execution_count": 46,
      "outputs": [
        {
          "output_type": "stream",
          "name": "stdout",
          "text": [
            "[[55456  1412]\n",
            " [    5    89]]\n"
          ]
        }
      ]
    },
    {
      "cell_type": "markdown",
      "metadata": {
        "id": "3eaPr5pBBy-7"
      },
      "source": [
        "**Predicting on Test Set**"
      ]
    },
    {
      "cell_type": "code",
      "metadata": {
        "id": "A21gnsyd052w"
      },
      "source": [
        "TP = confusion[1,1] # true positive \n",
        "TN = confusion[0,0] # true negatives\n",
        "FP = confusion[0,1] # false positives\n",
        "FN = confusion[1,0] # false negatives"
      ],
      "execution_count": 47,
      "outputs": []
    },
    {
      "cell_type": "code",
      "metadata": {
        "colab": {
          "base_uri": "https://localhost:8080/"
        },
        "id": "vf3Xq-rH073_",
        "outputId": "089866da-8408-43e6-bd6c-42e007ee61a4"
      },
      "source": [
        "# Accuracy\n",
        "print(\"Accuracy:-\",metrics.accuracy_score(y_test, y_test_pred))\n",
        "\n",
        "# Sensitivity\n",
        "print(\"Sensitivity:-\",TP / float(TP+FN))\n",
        "\n",
        "# Specificity\n",
        "print(\"Specificity:-\", TN / float(TN+FP))"
      ],
      "execution_count": 48,
      "outputs": [
        {
          "output_type": "stream",
          "name": "stdout",
          "text": [
            "Accuracy:- 0.9751237667216741\n",
            "Sensitivity:- 0.9468085106382979\n",
            "Specificity:- 0.9751705704438348\n"
          ]
        }
      ]
    },
    {
      "cell_type": "code",
      "metadata": {
        "colab": {
          "base_uri": "https://localhost:8080/"
        },
        "id": "ZHYIBOEH1D-N",
        "outputId": "5f0f6a96-b719-4608-d359-b444b2237877"
      },
      "source": [
        "# classification_report\n",
        "print(classification_report(y_test, y_test_pred))"
      ],
      "execution_count": 49,
      "outputs": [
        {
          "output_type": "stream",
          "name": "stdout",
          "text": [
            "              precision    recall  f1-score   support\n",
            "\n",
            "           0       1.00      0.98      0.99     56868\n",
            "           1       0.06      0.95      0.11        94\n",
            "\n",
            "    accuracy                           0.98     56962\n",
            "   macro avg       0.53      0.96      0.55     56962\n",
            "weighted avg       1.00      0.98      0.99     56962\n",
            "\n"
          ]
        }
      ]
    },
    {
      "cell_type": "code",
      "metadata": {
        "id": "X48q9UTN1He8"
      },
      "source": [
        "# Predicted probability\n",
        "y_test_pred_proba = logistic_bal_smote_model.predict_proba(X_test)[:,1]"
      ],
      "execution_count": 50,
      "outputs": []
    },
    {
      "cell_type": "markdown",
      "metadata": {
        "id": "2I5flWTiB3xp"
      },
      "source": [
        "**ROC-AUC Curve**"
      ]
    },
    {
      "cell_type": "code",
      "metadata": {
        "colab": {
          "base_uri": "https://localhost:8080/",
          "height": 350
        },
        "id": "sC82H8-g1JU9",
        "outputId": "791b48cc-6609-4439-e406-469a8557c923"
      },
      "source": [
        "# Plot the ROC curve\n",
        "draw_roc(y_test, y_test_pred_proba)"
      ],
      "execution_count": 51,
      "outputs": [
        {
          "output_type": "display_data",
          "data": {
            "image/png": "[encoded data removed]",
            "text/plain": [
              "<Figure size 360x360 with 1 Axes>"
            ]
          },
          "metadata": {
            "needs_background": "light"
          }
        }
      ]
    }
  ]
}